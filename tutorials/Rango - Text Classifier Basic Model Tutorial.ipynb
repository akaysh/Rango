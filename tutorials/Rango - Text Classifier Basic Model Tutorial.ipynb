{
 "cells": [
  {
   "cell_type": "code",
   "execution_count": 4,
   "metadata": {},
   "outputs": [],
   "source": [
    "using  Languages, TextAnalysis, Flux, PyPlot, Statistics"
   ]
  },
  {
   "cell_type": "code",
   "execution_count": 5,
   "metadata": {},
   "outputs": [
    {
     "data": {
      "text/plain": [
       "10-element Array{String,1}:\n",
       " \"well done\"             \n",
       " \"good work\"             \n",
       " \"great effort\"          \n",
       " \"nice work\"             \n",
       " \"excellent\"             \n",
       " \"weak\"                  \n",
       " \"poor effort\"           \n",
       " \"not good\"              \n",
       " \"poor work\"             \n",
       " \"could have done better\""
      ]
     },
     "execution_count": 5,
     "metadata": {},
     "output_type": "execute_result"
    }
   ],
   "source": [
    "# Array of documents for data (example)\n",
    "# Input directory given by the user\n",
    "\n",
    "doc_array = [\"well done\",\n",
    "     \"good work\",\n",
    "     \"great effort\",\n",
    "     \"nice work\",\n",
    "     \"excellent\",\n",
    "     \"weak\",\n",
    "     \"poor effort\",\n",
    "     \"not good\",\n",
    "     \"poor work\",\n",
    "     \"could have done better\"]\n"
   ]
  },
  {
   "cell_type": "code",
   "execution_count": 6,
   "metadata": {},
   "outputs": [
    {
     "data": {
      "text/plain": [
       "1×10 Array{Bool,2}:\n",
       " 1  1  1  1  1  0  0  0  0  0"
      ]
     },
     "execution_count": 6,
     "metadata": {},
     "output_type": "execute_result"
    }
   ],
   "source": [
    "# positve or negative sentiment to each 'document' string\n",
    "# labels can be loaded from a file given by the user\n",
    "\n",
    "y = [true true true true true false false false false false]\n"
   ]
  },
  {
   "cell_type": "code",
   "execution_count": 7,
   "metadata": {},
   "outputs": [],
   "source": [
    "# pushing the text from the files to the string documents\n",
    "docs=[]\n",
    "for i in 1:length(doc_array)\n",
    "    push!(docs, StringDocument(doc_array[i]))\n",
    "end\n"
   ]
  },
  {
   "cell_type": "code",
   "execution_count": 8,
   "metadata": {},
   "outputs": [
    {
     "data": {
      "text/plain": [
       "tk_idx (generic function with 1 method)"
      ]
     },
     "execution_count": 8,
     "metadata": {},
     "output_type": "execute_result"
    }
   ],
   "source": [
    "# building a Corpus\n",
    "corpus=Corpus(docs)\n",
    "\n",
    "# updating the lexicon and creating the word dict\n",
    "update_lexicon!(corpus)\n",
    "doc_term_matrix=DocumentTermMatrix(corpus)\n",
    "word_dict=doc_term_matrix.column_indices\n",
    "\n",
    "# function to return the index of the word in the word dictionary\n",
    "tk_idx(s) = haskey(word_dict, s) ? i=word_dict[s] : i=0\n"
   ]
  },
  {
   "cell_type": "code",
   "execution_count": 9,
   "metadata": {},
   "outputs": [
    {
     "data": {
      "text/plain": [
       "pad_corpus (generic function with 1 method)"
      ]
     },
     "execution_count": 9,
     "metadata": {},
     "output_type": "execute_result"
    }
   ],
   "source": [
    "# Padding the corpus wrt the longest document\n",
    "function pad_corpus(c, pad_size)\n",
    "    M=[]\n",
    "    for doc in 1:length(c)\n",
    "        tks = tokens(c[doc])\n",
    "        if length(tks)>=pad_size\n",
    "            tk_indexes=[tk_idx(w) for w in tks[1:pad_size]]\n",
    "        end\n",
    "        if length(tks)<pad_size\n",
    "            tk_indexes=zeros(Int64,pad_size-length(tks))\n",
    "            tk_indexes=vcat(tk_indexes, [tk_idx(w) for w in tks])\n",
    "        end\n",
    "        doc==1 ? M=tk_indexes' : M=vcat(M, tk_indexes')\n",
    "    end\n",
    "    return M\n",
    "end\n",
    "\n"
   ]
  },
  {
   "cell_type": "code",
   "execution_count": 10,
   "metadata": {},
   "outputs": [
    {
     "data": {
      "text/plain": [
       "1-element Array{Tuple{LinearAlgebra.Adjoint{Int64,Array{Int64,2}},Array{Bool,2}},1}:\n",
       " ([0 0 … 0 2; 0 0 … 0 8; 13 6 … 11 3; 3 14 … 14 1], [1 1 … 0 0])"
      ]
     },
     "execution_count": 10,
     "metadata": {},
     "output_type": "execute_result"
    }
   ],
   "source": [
    "# splitting words in the document\n",
    "word_docs = map(split,doc_array)\n",
    "# pad size is the number of words in the maximum word document\n",
    "pad_size = maximum(length(word_docs[i]) for i in 1:length(doc_array))\n",
    "# padding the docs\n",
    "padded_docs = pad_corpus(corpus, pad_size)\n",
    "# forming the data with the labels\n",
    "x = padded_docs'\n",
    "data = [(x, y)]\n"
   ]
  },
  {
   "cell_type": "code",
   "execution_count": 11,
   "metadata": {},
   "outputs": [
    {
     "data": {
      "text/plain": [
       "20"
      ]
     },
     "execution_count": 11,
     "metadata": {},
     "output_type": "execute_result"
    }
   ],
   "source": [
    "# Building Flux Embeddings\n",
    "N = size(padded_docs,1)  #Number of documents\n",
    "# features per word to learn, depends on the size of the corpus, larger corpus will probably need a higher dimension\n",
    "max_features = 8\n",
    "# number of words in the vocabulary, should always be higher than the maximum index in our dictionary.\n",
    "vocab_size = 20\n"
   ]
  },
  {
   "cell_type": "code",
   "execution_count": 12,
   "metadata": {},
   "outputs": [],
   "source": [
    "# Embedding layer for Flux model\n",
    "# glorot_normal returns an Array of size dims containing random variables taken from a normal distribution with mean 0 and standard deviation (2 / sum(dims)).\n",
    "struct EmbeddingLayer\n",
    "   W\n",
    "   EmbeddingLayer(mf, vs) = new(Flux.glorot_normal(mf, vs))\n",
    "end\n"
   ]
  },
  {
   "cell_type": "code",
   "execution_count": 13,
   "metadata": {},
   "outputs": [
    {
     "data": {
      "text/plain": [
       "Chain(EmbeddingLayer(Float32[-0.11994678 0.10359192 … 0.45221734 0.29610747; 0.29121187 -0.25239998 … -0.12055236 0.24667573; … ; -0.42914256 0.46167156 … -0.26044267 -0.051630676; -0.040195264 0.23129323 … -0.34874007 -0.12489416]), #7, #8, #9, Dense(8, 1, σ))"
      ]
     },
     "execution_count": 13,
     "metadata": {},
     "output_type": "execute_result"
    }
   ],
   "source": [
    "# Enabling Flux to learn\n",
    "@Flux.treelike EmbeddingLayer\n",
    "\n",
    "(m::EmbeddingLayer)(x) = m.W * Flux.onehotbatch(reshape(x, pad_size*N), 0:vocab_size-1)\n",
    "\n",
    "m = Chain(EmbeddingLayer(max_features, vocab_size),\n",
    "          x -> reshape(x, max_features, pad_size, N),\n",
    "          x -> sum(x, dims=2),\n",
    "          x -> reshape(x, max_features, N),\n",
    "          Dense(max_features, 1, σ)\n",
    ")"
   ]
  },
  {
   "cell_type": "markdown",
   "metadata": {},
   "source": [
    "Layer 1. As x is fed into the model, the first layer’s embedding function matches the words in each document to corresponding word vectors. This is done by rolling all the word vectors one after the other and using onehotbatch to filter out the unwanted words. The output is a 8x40 array (W\\[8x20\\]\\*onehotbatch\\[20x40\\]).\n",
    "\n",
    "Layer 2. Unrolls the vectors into the shape 8x4x10; i.e. 8 features and 10 documents of padded size 4.\n",
    "\n",
    "Layer 3. Now that our data is in the shape provided by layer 2 we can sum the word vectors to get an overall ‘meaning’ vector for each document. The output is now in the shape size of 8 x 1 x 10.\n",
    "\n",
    "Layer 4: Drops an axis so that the shape of x is a size suitable for training. After this step the shape is 8x10.\n",
    "\n",
    "Layer 5: is a normal Dense layer with the sigmoid activation function to give us nice probabilities.\n",
    "\n",
    "If you’d like to see each layer in action I recommend using m\\[1\\](x) to see sample output from the first layer. m\\[1:2\\](x) to see output from the second layer and so on."
   ]
  },
  {
   "cell_type": "markdown",
   "metadata": {},
   "source": [
    "## Breaking the model"
   ]
  },
  {
   "cell_type": "code",
   "execution_count": 14,
   "metadata": {},
   "outputs": [
    {
     "data": {
      "text/plain": [
       "4×10 LinearAlgebra.Adjoint{Int64,Array{Int64,2}}:\n",
       "  0   0  0   0  0   0   0   0   0  2\n",
       "  0   0  0   0  0   0   0   0   0  8\n",
       " 13   6  7   9  0   0  11  10  11  3\n",
       "  3  14  4  14  5  12   4   6  14  1"
      ]
     },
     "execution_count": 14,
     "metadata": {},
     "output_type": "execute_result"
    }
   ],
   "source": [
    "x"
   ]
  },
  {
   "cell_type": "code",
   "execution_count": 15,
   "metadata": {},
   "outputs": [
    {
     "data": {
      "text/plain": [
       "40-element reshape(::LinearAlgebra.Adjoint{Int64,Array{Int64,2}}, 40) with eltype Int64:\n",
       "  0\n",
       "  0\n",
       " 13\n",
       "  3\n",
       "  0\n",
       "  0\n",
       "  6\n",
       " 14\n",
       "  0\n",
       "  0\n",
       "  7\n",
       "  4\n",
       "  0\n",
       "  ⋮\n",
       "  0\n",
       "  0\n",
       " 10\n",
       "  6\n",
       "  0\n",
       "  0\n",
       " 11\n",
       " 14\n",
       "  2\n",
       "  8\n",
       "  3\n",
       "  1"
      ]
     },
     "execution_count": 15,
     "metadata": {},
     "output_type": "execute_result"
    }
   ],
   "source": [
    "reshape(x,pad_size*N)"
   ]
  },
  {
   "cell_type": "code",
   "execution_count": 16,
   "metadata": {},
   "outputs": [
    {
     "data": {
      "text/plain": [
       "20×40 Flux.OneHotMatrix{Array{Flux.OneHotVector,1}}:\n",
       " 1  1  0  0  1  1  0  0  1  1  0  0  1  …  1  1  0  0  1  1  0  0  0  0  0  0\n",
       " 0  0  0  0  0  0  0  0  0  0  0  0  0     0  0  0  0  0  0  0  0  0  0  0  1\n",
       " 0  0  0  0  0  0  0  0  0  0  0  0  0     0  0  0  0  0  0  0  0  1  0  0  0\n",
       " 0  0  0  1  0  0  0  0  0  0  0  0  0     0  0  0  0  0  0  0  0  0  0  1  0\n",
       " 0  0  0  0  0  0  0  0  0  0  0  1  0     0  0  0  0  0  0  0  0  0  0  0  0\n",
       " 0  0  0  0  0  0  0  0  0  0  0  0  0  …  0  0  0  0  0  0  0  0  0  0  0  0\n",
       " 0  0  0  0  0  0  1  0  0  0  0  0  0     0  0  0  1  0  0  0  0  0  0  0  0\n",
       " 0  0  0  0  0  0  0  0  0  0  1  0  0     0  0  0  0  0  0  0  0  0  0  0  0\n",
       " 0  0  0  0  0  0  0  0  0  0  0  0  0     0  0  0  0  0  0  0  0  0  1  0  0\n",
       " 0  0  0  0  0  0  0  0  0  0  0  0  0     0  0  0  0  0  0  0  0  0  0  0  0\n",
       " 0  0  0  0  0  0  0  0  0  0  0  0  0  …  0  0  1  0  0  0  0  0  0  0  0  0\n",
       " 0  0  0  0  0  0  0  0  0  0  0  0  0     0  0  0  0  0  0  1  0  0  0  0  0\n",
       " 0  0  0  0  0  0  0  0  0  0  0  0  0     0  0  0  0  0  0  0  0  0  0  0  0\n",
       " 0  0  1  0  0  0  0  0  0  0  0  0  0     0  0  0  0  0  0  0  0  0  0  0  0\n",
       " 0  0  0  0  0  0  0  1  0  0  0  0  0     0  0  0  0  0  0  0  1  0  0  0  0\n",
       " 0  0  0  0  0  0  0  0  0  0  0  0  0  …  0  0  0  0  0  0  0  0  0  0  0  0\n",
       " 0  0  0  0  0  0  0  0  0  0  0  0  0     0  0  0  0  0  0  0  0  0  0  0  0\n",
       " 0  0  0  0  0  0  0  0  0  0  0  0  0     0  0  0  0  0  0  0  0  0  0  0  0\n",
       " 0  0  0  0  0  0  0  0  0  0  0  0  0     0  0  0  0  0  0  0  0  0  0  0  0\n",
       " 0  0  0  0  0  0  0  0  0  0  0  0  0     0  0  0  0  0  0  0  0  0  0  0  0"
      ]
     },
     "execution_count": 16,
     "metadata": {},
     "output_type": "execute_result"
    }
   ],
   "source": [
    "Flux.onehotbatch(reshape(x, pad_size*N), 0:vocab_size-1)\n",
    "# One hot encoded matrix has 1s on the positions of the vocab index (Eg 0 0 13 3 for first word vector)\n",
    "# All the vectors are placed side by side concatenated"
   ]
  },
  {
   "cell_type": "code",
   "execution_count": 17,
   "metadata": {},
   "outputs": [
    {
     "data": {
      "text/plain": [
       "EmbeddingLayer(Float32[0.036265727 -0.48077315 … 0.06613864 -0.2174418; 0.013880816 0.024321787 … 0.009754429 0.42271343; … ; -0.055984426 -0.4305359 … 0.35037464 0.22026838; 0.4178024 0.14544193 … -0.28050926 -0.21608542])"
      ]
     },
     "execution_count": 17,
     "metadata": {},
     "output_type": "execute_result"
    }
   ],
   "source": [
    "# Layer one\n",
    "EmbeddingLayer(max_features, vocab_size)\n",
    "# This constructor has a layer with weights (8x20) max_features x vocab_size and are initialized by normal distribution"
   ]
  },
  {
   "cell_type": "code",
   "execution_count": 18,
   "metadata": {},
   "outputs": [
    {
     "data": {
      "text/plain": [
       "8×40 Array{Float32,2}:\n",
       "  0.0932422   0.0932422  -0.064883   …   0.170615   -0.0577431   0.0883711\n",
       " -0.0759528  -0.0759528  -0.395171      -0.214687    0.0845044  -0.168101 \n",
       "  0.484199    0.484199    0.176932      -0.337407    0.0389016   0.28849  \n",
       " -0.354373   -0.354373    0.38027       -0.182537   -0.166481    0.279266 \n",
       " -0.282478   -0.282478   -0.673712      -0.0863163  -0.129442    0.0392221\n",
       " -0.243295   -0.243295   -0.202764   …   0.0885937  -0.321701   -0.0840024\n",
       "  0.268755    0.268755    0.0274297     -0.261963    0.333964    0.308907 \n",
       " -0.328911   -0.328911   -0.167159       0.541241    0.13942     0.0198421"
      ]
     },
     "execution_count": 18,
     "metadata": {},
     "output_type": "execute_result"
    }
   ],
   "source": [
    "# Layer one output\n",
    "el = EmbeddingLayer(max_features, vocab_size)(x)"
   ]
  },
  {
   "cell_type": "code",
   "execution_count": 19,
   "metadata": {},
   "outputs": [
    {
     "data": {
      "text/plain": [
       "8×4×10 Array{Float32,3}:\n",
       "[:, :, 1] =\n",
       "  0.0932422   0.0932422  -0.064883   -0.0577431\n",
       " -0.0759528  -0.0759528  -0.395171    0.0845044\n",
       "  0.484199    0.484199    0.176932    0.0389016\n",
       " -0.354373   -0.354373    0.38027    -0.166481 \n",
       " -0.282478   -0.282478   -0.673712   -0.129442 \n",
       " -0.243295   -0.243295   -0.202764   -0.321701 \n",
       "  0.268755    0.268755    0.0274297   0.333964 \n",
       " -0.328911   -0.328911   -0.167159    0.13942  \n",
       "\n",
       "[:, :, 2] =\n",
       "  0.0932422   0.0932422   0.281767    -0.112821\n",
       " -0.0759528  -0.0759528   0.14254      0.260347\n",
       "  0.484199    0.484199   -0.16868      0.167578\n",
       " -0.354373   -0.354373   -0.208425    -0.421024\n",
       " -0.282478   -0.282478   -0.00925891   0.694908\n",
       " -0.243295   -0.243295   -0.426551     0.262435\n",
       "  0.268755    0.268755    0.115876     0.346096\n",
       " -0.328911   -0.328911   -0.535242     0.224249\n",
       "\n",
       "[:, :, 3] =\n",
       "  0.0932422   0.0932422  -0.0811066   0.117562 \n",
       " -0.0759528  -0.0759528   0.522178   -0.0672653\n",
       "  0.484199    0.484199   -0.330624    0.0583729\n",
       " -0.354373   -0.354373   -0.247707   -0.283764 \n",
       " -0.282478   -0.282478    0.211295   -0.0186424\n",
       " -0.243295   -0.243295    0.126344   -0.226484 \n",
       "  0.268755    0.268755   -0.024973   -0.241622 \n",
       " -0.328911   -0.328911    0.143436   -0.503751 \n",
       "\n",
       "[:, :, 4] =\n",
       "  0.0932422   0.0932422  -0.340701     -0.112821\n",
       " -0.0759528  -0.0759528  -0.317421      0.260347\n",
       "  0.484199    0.484199    0.187243      0.167578\n",
       " -0.354373   -0.354373    0.173834     -0.421024\n",
       " -0.282478   -0.282478    0.33556       0.694908\n",
       " -0.243295   -0.243295   -0.524388      0.262435\n",
       "  0.268755    0.268755   -0.000989376   0.346096\n",
       " -0.328911   -0.328911   -0.0282759     0.224249\n",
       "\n",
       "[:, :, 5] =\n",
       "  0.0932422   0.0932422   0.0932422   0.00323939\n",
       " -0.0759528  -0.0759528  -0.0759528  -0.11774   \n",
       "  0.484199    0.484199    0.484199    0.211829  \n",
       " -0.354373   -0.354373   -0.354373    0.129212  \n",
       " -0.282478   -0.282478   -0.282478    0.300321  \n",
       " -0.243295   -0.243295   -0.243295    0.152835  \n",
       "  0.268755    0.268755    0.268755    0.0910738 \n",
       " -0.328911   -0.328911   -0.328911   -0.152761  \n",
       "\n",
       "[:, :, 6] =\n",
       "  0.0932422   0.0932422   0.0932422  -0.0788325\n",
       " -0.0759528  -0.0759528  -0.0759528  -0.0411964\n",
       "  0.484199    0.484199    0.484199   -0.212936 \n",
       " -0.354373   -0.354373   -0.354373   -0.0800129\n",
       " -0.282478   -0.282478   -0.282478   -0.148086 \n",
       " -0.243295   -0.243295   -0.243295   -0.100773 \n",
       "  0.268755    0.268755    0.268755    0.0902815\n",
       " -0.328911   -0.328911   -0.328911    0.130647 \n",
       "\n",
       "[:, :, 7] =\n",
       "  0.0932422   0.0932422   0.0771827    0.117562 \n",
       " -0.0759528  -0.0759528  -0.092172    -0.0672653\n",
       "  0.484199    0.484199    0.199583     0.0583729\n",
       " -0.354373   -0.354373    0.339833    -0.283764 \n",
       " -0.282478   -0.282478    0.00642152  -0.0186424\n",
       " -0.243295   -0.243295    0.321343    -0.226484 \n",
       "  0.268755    0.268755    0.11889     -0.241622 \n",
       " -0.328911   -0.328911   -0.707582    -0.503751 \n",
       "\n",
       "[:, :, 8] =\n",
       "  0.0932422   0.0932422   0.130748   0.281767  \n",
       " -0.0759528  -0.0759528   0.099521   0.14254   \n",
       "  0.484199    0.484199    0.163324  -0.16868   \n",
       " -0.354373   -0.354373   -0.341099  -0.208425  \n",
       " -0.282478   -0.282478   -0.183881  -0.00925891\n",
       " -0.243295   -0.243295    0.149191  -0.426551  \n",
       "  0.268755    0.268755    0.118171   0.115876  \n",
       " -0.328911   -0.328911   -0.24623   -0.535242  \n",
       "\n",
       "[:, :, 9] =\n",
       "  0.0932422   0.0932422   0.0771827   -0.112821\n",
       " -0.0759528  -0.0759528  -0.092172     0.260347\n",
       "  0.484199    0.484199    0.199583     0.167578\n",
       " -0.354373   -0.354373    0.339833    -0.421024\n",
       " -0.282478   -0.282478    0.00642152   0.694908\n",
       " -0.243295   -0.243295    0.321343     0.262435\n",
       "  0.268755    0.268755    0.11889      0.346096\n",
       " -0.328911   -0.328911   -0.707582     0.224249\n",
       "\n",
       "[:, :, 10] =\n",
       "  0.252329    0.170615   -0.0577431   0.0883711\n",
       "  0.263834   -0.214687    0.0845044  -0.168101 \n",
       "  0.11296    -0.337407    0.0389016   0.28849  \n",
       " -0.172555   -0.182537   -0.166481    0.279266 \n",
       " -0.0823566  -0.0863163  -0.129442    0.0392221\n",
       " -0.153034    0.0885937  -0.321701   -0.0840024\n",
       " -0.0972128  -0.261963    0.333964    0.308907 \n",
       " -0.0311661   0.541241    0.13942     0.0198421"
      ]
     },
     "execution_count": 19,
     "metadata": {},
     "output_type": "execute_result"
    }
   ],
   "source": [
    "# Layer 2 (separating the vectors for every document)\n",
    "l2 = reshape(el, max_features, pad_size, N)"
   ]
  },
  {
   "cell_type": "code",
   "execution_count": 20,
   "metadata": {},
   "outputs": [
    {
     "data": {
      "text/plain": [
       "8×1×10 Array{Float32,3}:\n",
       "[:, :, 1] =\n",
       "  0.063858405\n",
       " -0.46257222 \n",
       "  1.1842321  \n",
       " -0.4949571  \n",
       " -1.3681104  \n",
       " -1.0110555  \n",
       "  0.89890337 \n",
       " -0.68556124 \n",
       "\n",
       "[:, :, 2] =\n",
       "  0.35543042\n",
       "  0.25098166\n",
       "  0.9672961 \n",
       " -1.3381947 \n",
       "  0.12069231\n",
       " -0.6507058 \n",
       "  0.9994816 \n",
       " -0.9688151 \n",
       "\n",
       "[:, :, 3] =\n",
       "  0.22294003\n",
       "  0.30300707\n",
       "  0.69614786\n",
       " -1.2402169 \n",
       " -0.37230426\n",
       " -0.58673   \n",
       "  0.27091432\n",
       " -1.0181375 \n",
       "\n",
       "[:, :, 4] =\n",
       " -0.2670368 \n",
       " -0.20897979\n",
       "  1.3232198 \n",
       " -0.9559355 \n",
       "  0.46551108\n",
       " -0.7485428 \n",
       "  0.882616  \n",
       " -0.4618492 \n",
       "\n",
       "[:, :, 5] =\n",
       "  0.2829661 \n",
       " -0.34559828\n",
       "  1.6644268 \n",
       " -0.9339064 \n",
       " -0.5471134 \n",
       " -0.5770495 \n",
       "  0.89733845\n",
       " -1.1394947 \n",
       "\n",
       "[:, :, 6] =\n",
       "  0.20089424\n",
       " -0.2690547 \n",
       "  1.2396622 \n",
       " -1.1431316 \n",
       " -0.9955208 \n",
       " -0.8306582 \n",
       "  0.8965461 \n",
       " -0.85608673\n",
       "\n",
       "[:, :, 7] =\n",
       "  0.3812293 \n",
       " -0.3113429 \n",
       "  1.2263544 \n",
       " -0.6526772 \n",
       " -0.5771775 \n",
       " -0.39173168\n",
       "  0.41477698\n",
       " -1.8691549 \n",
       "\n",
       "[:, :, 8] =\n",
       "  0.59899867 \n",
       "  0.090155795\n",
       "  0.96304226 \n",
       " -1.2582698  \n",
       " -0.7580969  \n",
       " -0.7639501  \n",
       "  0.77155745 \n",
       " -1.4392942  \n",
       "\n",
       "[:, :, 9] =\n",
       "  0.15084654 \n",
       "  0.016269296\n",
       "  1.3355592  \n",
       " -0.7899368  \n",
       "  0.13637275 \n",
       "  0.097187996\n",
       "  1.002495   \n",
       " -1.141155   \n",
       "\n",
       "[:, :, 10] =\n",
       "  0.4535716  \n",
       " -0.034448996\n",
       "  0.10294503 \n",
       " -0.2423071  \n",
       " -0.2588924  \n",
       " -0.47014406 \n",
       "  0.2836958  \n",
       "  0.669337   "
      ]
     },
     "execution_count": 20,
     "metadata": {},
     "output_type": "execute_result"
    }
   ],
   "source": [
    "# Layer 3 (Summing the word vectors for each document to get one meaningful vector per document)\n",
    "l3 = sum(l2, dims=2)"
   ]
  },
  {
   "cell_type": "code",
   "execution_count": 21,
   "metadata": {},
   "outputs": [
    {
     "data": {
      "text/plain": [
       "8×10 Array{Float32,2}:\n",
       "  0.0638584   0.35543    0.22294   …   0.598999    0.150847    0.453572\n",
       " -0.462572    0.250982   0.303007      0.0901558   0.0162693  -0.034449\n",
       "  1.18423     0.967296   0.696148      0.963042    1.33556     0.102945\n",
       " -0.494957   -1.33819   -1.24022      -1.25827    -0.789937   -0.242307\n",
       " -1.36811     0.120692  -0.372304     -0.758097    0.136373   -0.258892\n",
       " -1.01106    -0.650706  -0.58673   …  -0.76395     0.097188   -0.470144\n",
       "  0.898903    0.999482   0.270914      0.771557    1.0025      0.283696\n",
       " -0.685561   -0.968815  -1.01814      -1.43929    -1.14116     0.669337"
      ]
     },
     "execution_count": 21,
     "metadata": {},
     "output_type": "execute_result"
    }
   ],
   "source": [
    "# Layer 4 (Dropping an axis to concatenate all the document vectors)\n",
    "l4 = reshape(l3, max_features, N)"
   ]
  },
  {
   "cell_type": "code",
   "execution_count": 22,
   "metadata": {},
   "outputs": [
    {
     "data": {
      "text/plain": [
       "Dense(8, 1, σ)"
      ]
     },
     "execution_count": 22,
     "metadata": {},
     "output_type": "execute_result"
    }
   ],
   "source": [
    "# Layer 5 (Sigmoid layer to give probabilities)\n",
    "Dense(max_features, 1, σ)"
   ]
  },
  {
   "cell_type": "code",
   "execution_count": 23,
   "metadata": {},
   "outputs": [
    {
     "data": {
      "text/plain": [
       "Descent(0.01)"
      ]
     },
     "execution_count": 23,
     "metadata": {},
     "output_type": "execute_result"
    }
   ],
   "source": [
    "loss_h=[]\n",
    "accuracy_train=[]\n",
    "accuracy(x, y) = mean(x .== y)\n",
    "loss(x, y) = sum(Flux.binarycrossentropy.(m(x), y))\n",
    "optimizer = Flux.Descent(0.01)"
   ]
  },
  {
   "cell_type": "code",
   "execution_count": 24,
   "metadata": {},
   "outputs": [
    {
     "name": "stdout",
     "output_type": "stream",
     "text": [
      "7.6075726 0.4\n",
      "7.4610777 0.4\n",
      "7.3236437 0.5\n",
      "7.192893 0.5\n",
      "7.0676174 0.5\n",
      "6.9470854 0.5\n",
      "6.8307753 0.5\n",
      "6.718274 0.5\n",
      "6.6092305 0.5\n",
      "6.5033355 0.5\n",
      "6.4003153 0.5\n",
      "6.2999234 0.6\n",
      "6.2019367 0.6\n",
      "6.106156 0.6\n",
      "6.0124006 0.6\n",
      "5.92051 0.6\n",
      "5.8303356 0.6\n",
      "5.741749 0.6\n",
      "5.6546316 0.7\n",
      "5.568877 0.7\n",
      "5.4843917 0.8\n",
      "5.401094 0.8\n",
      "5.3189077 0.8\n",
      "5.237767 0.8\n",
      "5.157617 0.8\n",
      "5.078406 0.8\n",
      "5.00009 0.8\n",
      "4.9226327 0.9\n",
      "4.846002 0.9\n",
      "4.7701726 0.9\n",
      "4.695122 0.9\n",
      "4.6208315 0.9\n",
      "4.54729 0.9\n",
      "4.474487 0.9\n",
      "4.4024134 0.9\n",
      "4.331068 0.9\n",
      "4.2604475 0.9\n",
      "4.190552 0.9\n",
      "4.121386 0.9\n",
      "4.0529523 0.9\n",
      "3.9852574 0.9\n",
      "3.9183078 1.0\n",
      "3.85211 1.0\n",
      "3.786674 1.0\n",
      "3.722008 1.0\n",
      "3.658121 1.0\n",
      "3.595023 1.0\n",
      "3.5327232 1.0\n",
      "3.4712307 1.0\n",
      "3.4105542 1.0\n",
      "3.3507032 1.0\n",
      "3.2916863 1.0\n",
      "3.23351 1.0\n",
      "3.1761816 1.0\n",
      "3.1197078 1.0\n",
      "3.0640948 1.0\n",
      "3.0093455 1.0\n",
      "2.9554648 1.0\n",
      "2.9024553 1.0\n",
      "2.8503208 1.0\n",
      "2.79906 1.0\n",
      "2.7486746 1.0\n",
      "2.6991642 1.0\n",
      "2.6505272 1.0\n",
      "2.60276 1.0\n",
      "2.555861 1.0\n",
      "2.5098255 1.0\n",
      "2.4646487 1.0\n",
      "2.4203258 1.0\n",
      "2.376849 1.0\n",
      "2.3342123 1.0\n",
      "2.2924087 1.0\n",
      "2.2514286 1.0\n",
      "2.2112637 1.0\n",
      "2.1719058 1.0\n",
      "2.1333432 1.0\n",
      "2.0955677 1.0\n",
      "2.0585673 1.0\n",
      "2.0223315 1.0\n",
      "1.9868491 1.0\n",
      "1.9521085 1.0\n",
      "1.9180976 1.0\n",
      "1.8848045 1.0\n",
      "1.8522174 1.0\n",
      "1.8203235 1.0\n",
      "1.7891107 1.0\n",
      "1.7585665 1.0\n",
      "1.728678 1.0\n",
      "1.6994334 1.0\n",
      "1.6708188 1.0\n",
      "1.642823 1.0\n",
      "1.6154321 1.0\n",
      "1.5886352 1.0\n",
      "1.5624186 1.0\n",
      "1.5367707 1.0\n",
      "1.5116788 1.0\n",
      "1.4871315 1.0\n",
      "1.4631162 1.0\n",
      "1.4396216 1.0\n",
      "1.4166356 1.0\n",
      "1.3941469 1.0\n",
      "1.3721446 1.0\n",
      "1.3506167 1.0\n",
      "1.3295529 1.0\n",
      "1.3089423 1.0\n",
      "1.2887745 1.0\n",
      "1.2690387 1.0\n",
      "1.249725 1.0\n",
      "1.2308234 1.0\n",
      "1.2123235 1.0\n",
      "1.1942168 1.0\n",
      "1.1764933 1.0\n",
      "1.1591439 1.0\n",
      "1.1421592 1.0\n",
      "1.1255312 1.0\n",
      "1.1092508 1.0\n",
      "1.0933094 1.0\n",
      "1.0776995 1.0\n",
      "1.0624124 1.0\n",
      "1.0474406 1.0\n",
      "1.0327765 1.0\n",
      "1.0184126 1.0\n",
      "1.0043414 1.0\n",
      "0.99055594 1.0\n",
      "0.9770494 1.0\n",
      "0.963815 1.0\n",
      "0.95084625 1.0\n",
      "0.9381362 1.0\n",
      "0.92567915 1.0\n",
      "0.91346884 1.0\n",
      "0.90149957 1.0\n",
      "0.8897651 1.0\n",
      "0.87826014 1.0\n",
      "0.866979 1.0\n",
      "0.85591644 1.0\n",
      "0.845067 1.0\n",
      "0.83442616 1.0\n",
      "0.82398826 1.0\n",
      "0.8137492 1.0\n",
      "0.80370367 1.0\n",
      "0.7938476 1.0\n",
      "0.78417623 1.0\n",
      "0.77468497 1.0\n",
      "0.76537055 1.0\n",
      "0.75622785 1.0\n",
      "0.7472533 1.0\n",
      "0.73844296 1.0\n",
      "0.72979325 1.0\n",
      "0.72130007 1.0\n",
      "0.7129601 1.0\n",
      "0.7047697 1.0\n",
      "0.6967257 1.0\n",
      "0.6888244 1.0\n",
      "0.68106294 1.0\n",
      "0.67343783 1.0\n",
      "0.66594636 1.0\n",
      "0.6585853 1.0\n",
      "0.65135163 1.0\n",
      "0.6442429 1.0\n",
      "0.637256 1.0\n",
      "0.6303882 1.0\n",
      "0.6236371 1.0\n",
      "0.617 1.0\n",
      "0.6104747 1.0\n",
      "0.60405844 1.0\n",
      "0.5977489 1.0\n",
      "0.591544 1.0\n",
      "0.58544123 1.0\n",
      "0.5794383 1.0\n",
      "0.5735336 1.0\n",
      "0.5677248 1.0\n",
      "0.5620094 1.0\n",
      "0.55638593 1.0\n",
      "0.55085254 1.0\n",
      "0.54540706 1.0\n",
      "0.5400479 1.0\n",
      "0.534773 1.0\n",
      "0.5295809 1.0\n",
      "0.5244696 1.0\n",
      "0.5194377 1.0\n",
      "0.5144832 1.0\n",
      "0.50960517 1.0\n",
      "0.50480163 1.0\n",
      "0.500071 1.0\n",
      "0.4954119 1.0\n",
      "0.4908231 1.0\n",
      "0.48630315 1.0\n",
      "0.48185042 1.0\n",
      "0.47746402 1.0\n",
      "0.4731419 1.0\n",
      "0.4688837 1.0\n",
      "0.4646875 1.0\n",
      "0.46055257 1.0\n",
      "0.45647734 1.0\n",
      "0.45246097 1.0\n",
      "0.4485021 1.0\n",
      "0.4445999 1.0\n",
      "0.440753 1.0\n",
      "0.43696052 1.0\n",
      "0.43322134 1.0\n",
      "0.42953435 1.0\n",
      "0.42589888 1.0\n",
      "0.42231402 1.0\n",
      "0.4187783 1.0\n",
      "0.4152912 1.0\n",
      "0.41185188 1.0\n",
      "0.40845937 1.0\n",
      "0.40511295 1.0\n",
      "0.40181136 1.0\n",
      "0.39855415 1.0\n",
      "0.39534044 1.0\n",
      "0.3921694 1.0\n",
      "0.38904035 1.0\n",
      "0.38595253 1.0\n",
      "0.38290548 1.0\n",
      "0.37989756 1.0\n",
      "0.37692893 1.0\n",
      "0.37399897 1.0\n",
      "0.37110677 1.0\n",
      "0.36825114 1.0\n",
      "0.36543214 1.0\n",
      "0.36264905 1.0\n",
      "0.35990104 1.0\n",
      "0.35718766 1.0\n",
      "0.3545081 1.0\n",
      "0.35186195 1.0\n",
      "0.3492488 1.0\n",
      "0.346668 1.0\n",
      "0.3441188 1.0\n",
      "0.34160092 1.0\n",
      "0.33911344 1.0\n",
      "0.33665642 1.0\n",
      "0.3342291 1.0\n",
      "0.3318312 1.0\n",
      "0.32946157 1.0\n",
      "0.32712018 1.0\n",
      "0.32480714 1.0\n",
      "0.32252124 1.0\n",
      "0.3202622 1.0\n",
      "0.31802946 1.0\n",
      "0.31582305 1.0\n",
      "0.31364232 1.0\n",
      "0.3114866 1.0\n",
      "0.3093558 1.0\n",
      "0.30724964 1.0\n",
      "0.3051675 1.0\n",
      "0.303109 1.0\n",
      "0.30107373 1.0\n",
      "0.2990615 1.0\n",
      "0.2970719 1.0\n",
      "0.29510468 1.0\n",
      "0.29315937 1.0\n",
      "0.2912355 1.0\n",
      "0.28933302 1.0\n",
      "0.28745115 1.0\n",
      "0.2855902 1.0\n",
      "0.2837498 1.0\n",
      "0.2819292 1.0\n",
      "0.28012806 1.0\n",
      "0.27834672 1.0\n",
      "0.27658436 1.0\n",
      "0.27484065 1.0\n",
      "0.27311575 1.0\n",
      "0.27140918 1.0\n",
      "0.26972076 1.0\n",
      "0.26805007 1.0\n",
      "0.2663966 1.0\n",
      "0.26476076 1.0\n",
      "0.26314172 1.0\n",
      "0.26153964 1.0\n",
      "0.2599539 1.0\n",
      "0.2583845 1.0\n",
      "0.2568313 1.0\n",
      "0.25529388 1.0\n",
      "0.25377208 1.0\n",
      "0.25226575 1.0\n",
      "0.2507745 1.0\n",
      "0.24929848 1.0\n",
      "0.247837 1.0\n",
      "0.24639025 1.0\n",
      "0.24495775 1.0\n",
      "0.24353936 1.0\n",
      "0.24213497 1.0\n",
      "0.24074452 1.0\n",
      "0.23936762 1.0\n",
      "0.23800397 1.0\n",
      "0.23665395 1.0\n",
      "0.23531665 1.0\n",
      "0.23399241 1.0\n",
      "0.23268086 1.0\n",
      "0.23138179 1.0\n",
      "0.23009513 1.0\n",
      "0.22882059 1.0\n",
      "0.22755826 1.0\n",
      "0.22630787 1.0\n",
      "0.22506899 1.0\n",
      "0.22384213 1.0\n",
      "0.22262639 1.0\n",
      "0.22142199 1.0\n",
      "0.22022875 1.0\n",
      "0.21904644 1.0\n",
      "0.2178751 1.0\n",
      "0.2167145 1.0\n",
      "0.21556447 1.0\n",
      "0.21442483 1.0\n",
      "0.21329582 1.0\n",
      "0.21217662 1.0\n",
      "0.21106754 1.0\n",
      "0.20996866 1.0\n",
      "0.20887916 1.0\n",
      "0.20779969 1.0\n",
      "0.20672986 1.0\n",
      "0.20566924 1.0\n",
      "0.20461829 1.0\n",
      "0.20357642 1.0\n",
      "0.20254369 1.0\n",
      "0.20151977 1.0\n",
      "0.20050508 1.0\n",
      "0.19949883 1.0\n",
      "0.19850162 1.0\n",
      "0.19751273 1.0\n",
      "0.19653244 1.0\n",
      "0.19556032 1.0\n",
      "0.19459657 1.0\n",
      "0.1936415 1.0\n",
      "0.19269389 1.0\n",
      "0.1917544 1.0\n",
      "0.1908231 1.0\n",
      "0.18989931 1.0\n",
      "0.18898328 1.0\n",
      "0.18807492 1.0\n",
      "0.18717399 1.0\n",
      "0.18628052 1.0\n",
      "0.18539464 1.0\n",
      "0.18451573 1.0\n",
      "0.18364409 1.0\n",
      "0.18277973 1.0\n",
      "0.18192223 1.0\n",
      "0.18107173 1.0\n",
      "0.18022832 1.0\n",
      "0.17939141 1.0\n",
      "0.17856145 1.0\n",
      "0.17773798 1.0\n",
      "0.17692117 1.0\n",
      "0.17611086 1.0\n",
      "0.17530675 1.0\n",
      "0.17450921 1.0\n",
      "0.17371786 1.0\n",
      "0.17293276 1.0\n",
      "0.17215371 1.0\n",
      "0.17138101 1.0\n",
      "0.17061397 1.0\n",
      "0.16985318 1.0\n",
      "0.16909812 1.0\n",
      "0.16834873 1.0\n",
      "0.16760537 1.0\n",
      "0.16686767 1.0\n",
      "0.16613565 1.0\n",
      "0.16540892 1.0\n",
      "0.16468804 1.0\n",
      "0.16397241 1.0\n",
      "0.16326211 1.0\n",
      "0.16255729 1.0\n",
      "0.16185778 1.0\n",
      "0.16116363 1.0\n",
      "0.1604745 1.0\n",
      "0.15979037 1.0\n",
      "0.15911134 1.0\n",
      "0.15843742 1.0\n",
      "0.15776853 1.0\n",
      "0.15710436 1.0\n",
      "0.15644522 1.0\n",
      "0.15579085 1.0\n",
      "0.1551412 1.0\n",
      "0.15449648 1.0\n",
      "0.15385607 1.0\n",
      "0.15322055 1.0\n",
      "0.15258935 1.0\n",
      "0.15196282 1.0\n",
      "0.15134077 1.0\n",
      "0.15072314 1.0\n",
      "0.15011 1.0\n",
      "0.14950114 1.0\n",
      "0.14889647 1.0\n",
      "0.14829628 1.0\n",
      "0.14770013 1.0\n",
      "0.14710835 1.0\n",
      "0.14652054 1.0\n",
      "0.14593698 1.0\n",
      "0.1453573 1.0\n",
      "0.14478165 1.0\n",
      "0.14421006 1.0\n",
      "0.14364254 1.0\n",
      "0.14307863 1.0\n",
      "0.14251886 1.0\n",
      "0.14196272 1.0\n",
      "0.14141023 1.0\n",
      "0.14086176 1.0\n",
      "0.1403171 1.0\n",
      "0.13977571 1.0\n",
      "Bool[1 1 1 1 1 0 0 0 0 0]\n"
     ]
    },
    {
     "data": {
      "text/plain": [
       "1.0"
      ]
     },
     "execution_count": 24,
     "metadata": {},
     "output_type": "execute_result"
    }
   ],
   "source": [
    "for epoch in 1:400\n",
    "    Flux.train!(loss, Flux.params(m), data, optimizer)\n",
    "    println(loss(x, y), \" \", accuracy(m(x).>0.5,y))\n",
    "    push!(loss_h, loss(x, y))\n",
    "    push!(accuracy_train, accuracy(m(x).>0.5,y))\n",
    "end\n",
    "println(m(x).>0.5)\n",
    "accuracy(m(x).>0.5,y)"
   ]
  },
  {
   "cell_type": "code",
   "execution_count": 25,
   "metadata": {},
   "outputs": [
    {
     "data": {
      "image/png": "[encoded data removed]",
      "text/plain": [
       "Figure(PyObject <Figure size 1200x500 with 2 Axes>)"
      ]
     },
     "metadata": {},
     "output_type": "display_data"
    },
    {
     "data": {
      "text/plain": [
       "1-element Array{PyCall.PyObject,1}:\n",
       " PyObject <matplotlib.lines.Line2D object at 0x1a27e14d0>"
      ]
     },
     "execution_count": 25,
     "metadata": {},
     "output_type": "execute_result"
    }
   ],
   "source": [
    "figure(figsize=(12,5))\n",
    "subplot(121)\n",
    "PyPlot.xlabel(\"Epoch\")\n",
    "ylabel(\"Loss\")\n",
    "plot(loss_h)\n",
    "\n",
    "subplot(122)\n",
    "PyPlot.xlabel(\"Epoch\")\n",
    "ylabel(\"Accuracy\")\n",
    "plot(accuracy_train, label=\"train\")"
   ]
  },
  {
   "cell_type": "code",
   "execution_count": null,
   "metadata": {},
   "outputs": [],
   "source": []
  }
 ],
 "metadata": {
  "kernelspec": {
   "display_name": "Julia 1.3.1",
   "language": "julia",
   "name": "julia-1.3"
  },
  "language_info": {
   "file_extension": ".jl",
   "mimetype": "application/julia",
   "name": "julia",
   "version": "1.3.1"
  }
 },
 "nbformat": 4,
 "nbformat_minor": 2
}
