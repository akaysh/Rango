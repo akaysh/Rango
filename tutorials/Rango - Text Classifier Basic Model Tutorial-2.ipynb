{
 "cells": [
  {
   "cell_type": "code",
   "execution_count": 2,
   "metadata": {},
   "outputs": [],
   "source": [
    "using  Languages, TextAnalysis, Flux, PyPlot, Statistics, Embeddings"
   ]
  },
  {
   "cell_type": "code",
   "execution_count": 3,
   "metadata": {},
   "outputs": [
    {
     "data": {
      "text/plain": [
       "10-element Array{String,1}:\n",
       " \"well done\"             \n",
       " \"good work\"             \n",
       " \"great effort\"          \n",
       " \"nice work\"             \n",
       " \"excellent\"             \n",
       " \"weak\"                  \n",
       " \"poor effort\"           \n",
       " \"not good\"              \n",
       " \"poor work\"             \n",
       " \"could have done better\""
      ]
     },
     "execution_count": 3,
     "metadata": {},
     "output_type": "execute_result"
    }
   ],
   "source": [
    "# Array of documents for data (example)\n",
    "# Input directory given by the user\n",
    "\n",
    "doc_array = [\"well done\",\n",
    "     \"good work\",\n",
    "     \"great effort\",\n",
    "     \"nice work\",\n",
    "     \"excellent\",\n",
    "     \"weak\",\n",
    "     \"poor effort\",\n",
    "     \"not good\",\n",
    "     \"poor work\",\n",
    "     \"could have done better\"]\n"
   ]
  },
  {
   "cell_type": "code",
   "execution_count": 4,
   "metadata": {},
   "outputs": [
    {
     "data": {
      "text/plain": [
       "1×10 Array{Bool,2}:\n",
       " 1  1  1  1  1  0  0  0  0  0"
      ]
     },
     "execution_count": 4,
     "metadata": {},
     "output_type": "execute_result"
    }
   ],
   "source": [
    "# positve or negative sentiment to each 'document' string\n",
    "# labels can be loaded from a file given by the user\n",
    "\n",
    "y = [true true true true true false false false false false]\n"
   ]
  },
  {
   "cell_type": "code",
   "execution_count": 5,
   "metadata": {},
   "outputs": [],
   "source": [
    "# pushing the text from the files to the string documents\n",
    "docs=[]\n",
    "for i in 1:length(doc_array)\n",
    "    push!(docs, StringDocument(doc_array[i]))\n",
    "end\n"
   ]
  },
  {
   "cell_type": "code",
   "execution_count": 6,
   "metadata": {},
   "outputs": [
    {
     "data": {
      "text/plain": [
       "tk_idx (generic function with 1 method)"
      ]
     },
     "execution_count": 6,
     "metadata": {},
     "output_type": "execute_result"
    }
   ],
   "source": [
    "# building a Corpus\n",
    "corpus=Corpus(docs)\n",
    "\n",
    "# updating the lexicon and creating the word dict\n",
    "update_lexicon!(corpus)\n",
    "doc_term_matrix=DocumentTermMatrix(corpus)\n",
    "word_dict=doc_term_matrix.column_indices\n",
    "\n",
    "# function to return the index of the word in the word dictionary\n",
    "tk_idx(s) = haskey(word_dict, s) ? i=word_dict[s] : i=0\n"
   ]
  },
  {
   "cell_type": "code",
   "execution_count": 7,
   "metadata": {},
   "outputs": [
    {
     "data": {
      "text/plain": [
       "pad_corpus (generic function with 1 method)"
      ]
     },
     "execution_count": 7,
     "metadata": {},
     "output_type": "execute_result"
    }
   ],
   "source": [
    "# Padding the corpus wrt the longest document\n",
    "function pad_corpus(c, pad_size)\n",
    "    M=[]\n",
    "    for doc in 1:length(c)\n",
    "        tks = tokens(c[doc])\n",
    "        if length(tks)>=pad_size\n",
    "            tk_indexes=[tk_idx(w) for w in tks[1:pad_size]]\n",
    "        end\n",
    "        if length(tks)<pad_size\n",
    "            tk_indexes=zeros(Int64,pad_size-length(tks))\n",
    "            tk_indexes=vcat(tk_indexes, [tk_idx(w) for w in tks])\n",
    "        end\n",
    "        doc==1 ? M=tk_indexes' : M=vcat(M, tk_indexes')\n",
    "    end\n",
    "    return M\n",
    "end\n",
    "\n"
   ]
  },
  {
   "cell_type": "code",
   "execution_count": 8,
   "metadata": {},
   "outputs": [
    {
     "data": {
      "text/plain": [
       "1-element Array{Tuple{LinearAlgebra.Adjoint{Int64,Array{Int64,2}},Array{Bool,2}},1}:\n",
       " ([0 0 … 0 2; 0 0 … 0 8; 13 6 … 11 3; 3 14 … 14 1], [1 1 … 0 0])"
      ]
     },
     "execution_count": 8,
     "metadata": {},
     "output_type": "execute_result"
    }
   ],
   "source": [
    "# splitting words in the document\n",
    "word_docs = map(split,doc_array)\n",
    "# pad size is the number of words in the maximum word document\n",
    "pad_size = maximum(length(word_docs[i]) for i in 1:length(doc_array))\n",
    "# padding the docs\n",
    "padded_docs = pad_corpus(corpus, pad_size)\n",
    "# forming the data with the labels\n",
    "x = padded_docs'\n",
    "data = [(x, y)]\n"
   ]
  },
  {
   "cell_type": "code",
   "execution_count": 27,
   "metadata": {},
   "outputs": [],
   "source": [
    "function vec_idx(s)\n",
    "    i=findfirst(x -> x==s, vocab)\n",
    "    i==nothing ? i=0 : i \n",
    "end"
   ]
  },
  {
   "cell_type": "code",
   "execution_count": 28,
   "metadata": {},
   "outputs": [
    {
     "name": "stderr",
     "output_type": "stream",
     "text": [
      "WARNING: redefining constant embtable\n",
      "WARNING: redefining constant get_word_index\n"
     ]
    },
    {
     "data": {
      "text/plain": [
       "get_embedding (generic function with 1 method)"
      ]
     },
     "execution_count": 28,
     "metadata": {},
     "output_type": "execute_result"
    }
   ],
   "source": [
    "const embtable = load_embeddings(GloVe{:en},1) # or load_embeddings(FastText_Text) or ...\n",
    "#Function to return the index of the word in the embedding (returns 0 if the word is not found)\n",
    "const get_word_index = Dict(word=>ii for (ii,word) in enumerate(embtable.vocab))\n",
    "\n",
    "function get_embedding(word)\n",
    "    ind = get_word_index[word]\n",
    "    emb = embtable.embeddings[:,ind]\n",
    "    return emb\n",
    "end"
   ]
  },
  {
   "cell_type": "code",
   "execution_count": 29,
   "metadata": {},
   "outputs": [
    {
     "data": {
      "text/plain": [
       "(50, 400000)"
      ]
     },
     "execution_count": 29,
     "metadata": {},
     "output_type": "execute_result"
    }
   ],
   "source": [
    "embeddings = embtable.embeddings\n",
    "vocab = embtable.vocab\n",
    "embed_size, max_features = size(embeddings)"
   ]
  },
  {
   "cell_type": "code",
   "execution_count": 33,
   "metadata": {},
   "outputs": [
    {
     "data": {
      "text/plain": [
       "20"
      ]
     },
     "execution_count": 33,
     "metadata": {},
     "output_type": "execute_result"
    }
   ],
   "source": [
    "# Building Flux Embeddings\n",
    "N = size(padded_docs,1)  #Number of documents\n",
    "max_features = 50\n",
    "# number of words in the vocabulary, should always be higher than the maximum index in our dictionary.\n",
    "vocab_size = 20\n"
   ]
  },
  {
   "cell_type": "code",
   "execution_count": 34,
   "metadata": {},
   "outputs": [
    {
     "data": {
      "text/plain": [
       "50"
      ]
     },
     "execution_count": 34,
     "metadata": {},
     "output_type": "execute_result"
    }
   ],
   "source": [
    "max_features"
   ]
  },
  {
   "cell_type": "code",
   "execution_count": 35,
   "metadata": {},
   "outputs": [],
   "source": [
    "# Embedding layer for Flux model\n",
    "# glorot_normal returns an Array of size dims containing random variables taken from a normal distribution with mean 0 and standard deviation (2 / sum(dims)).\n",
    "embedding_matrix=Flux.glorot_normal(max_features, vocab_size)\n",
    "\n",
    "for term in doc_term_matrix.terms\n",
    "    if vec_idx(term)!=0\n",
    "        embedding_matrix[:,word_dict[term]+1]=get_embedding(term)\n",
    "    end\n",
    "end "
   ]
  },
  {
   "cell_type": "code",
   "execution_count": 36,
   "metadata": {},
   "outputs": [
    {
     "data": {
      "text/plain": [
       "Chain(#17, #18, #19, #20, Dense(50, 1, σ))"
      ]
     },
     "execution_count": 36,
     "metadata": {},
     "output_type": "execute_result"
    }
   ],
   "source": [
    "# Enabling Flux\n",
    "\n",
    "m = Chain(x -> embedding_matrix * Flux.onehotbatch(reshape(x, pad_size*N), 0:vocab_size-1),\n",
    "          x -> reshape(x, max_features, pad_size, N),\n",
    "          x -> sum(x, dims=2),\n",
    "          x -> reshape(x, max_features, N),\n",
    "          Dense(max_features, 1, σ)\n",
    ")"
   ]
  },
  {
   "cell_type": "markdown",
   "metadata": {},
   "source": [
    "Layer 1. As x is fed into the model, the first layer’s embedding function matches the words in each document to corresponding word vectors. This is done by rolling all the word vectors one after the other and using onehotbatch to filter out the unwanted words. The output is a 8x40 array (W\\[8x20\\]\\*onehotbatch\\[20x40\\]).\n",
    "\n",
    "Layer 2. Unrolls the vectors into the shape 8x4x10; i.e. 8 features and 10 documents of padded size 4.\n",
    "\n",
    "Layer 3. Now that our data is in the shape provided by layer 2 we can sum the word vectors to get an overall ‘meaning’ vector for each document. The output is now in the shape size of 8 x 1 x 10.\n",
    "\n",
    "Layer 4: Drops an axis so that the shape of x is a size suitable for training. After this step the shape is 8x10.\n",
    "\n",
    "Layer 5: is a normal Dense layer with the sigmoid activation function to give us nice probabilities.\n",
    "\n",
    "If you’d like to see each layer in action I recommend using m\\[1\\](x) to see sample output from the first layer. m\\[1:2\\](x) to see output from the second layer and so on."
   ]
  },
  {
   "cell_type": "markdown",
   "metadata": {},
   "source": [
    "## Breaking the model"
   ]
  },
  {
   "cell_type": "code",
   "execution_count": 37,
   "metadata": {},
   "outputs": [
    {
     "data": {
      "text/plain": [
       "4×10 LinearAlgebra.Adjoint{Int64,Array{Int64,2}}:\n",
       "  0   0  0   0  0   0   0   0   0  2\n",
       "  0   0  0   0  0   0   0   0   0  8\n",
       " 13   6  7   9  0   0  11  10  11  3\n",
       "  3  14  4  14  5  12   4   6  14  1"
      ]
     },
     "execution_count": 37,
     "metadata": {},
     "output_type": "execute_result"
    }
   ],
   "source": [
    "x"
   ]
  },
  {
   "cell_type": "code",
   "execution_count": 38,
   "metadata": {},
   "outputs": [
    {
     "data": {
      "text/plain": [
       "40-element reshape(::LinearAlgebra.Adjoint{Int64,Array{Int64,2}}, 40) with eltype Int64:\n",
       "  0\n",
       "  0\n",
       " 13\n",
       "  3\n",
       "  0\n",
       "  0\n",
       "  6\n",
       " 14\n",
       "  0\n",
       "  0\n",
       "  7\n",
       "  4\n",
       "  0\n",
       "  ⋮\n",
       "  0\n",
       "  0\n",
       " 10\n",
       "  6\n",
       "  0\n",
       "  0\n",
       " 11\n",
       " 14\n",
       "  2\n",
       "  8\n",
       "  3\n",
       "  1"
      ]
     },
     "execution_count": 38,
     "metadata": {},
     "output_type": "execute_result"
    }
   ],
   "source": [
    "reshape(x,pad_size*N)"
   ]
  },
  {
   "cell_type": "code",
   "execution_count": 39,
   "metadata": {},
   "outputs": [
    {
     "data": {
      "text/plain": [
       "20×40 Flux.OneHotMatrix{Array{Flux.OneHotVector,1}}:\n",
       " 1  1  0  0  1  1  0  0  1  1  0  0  1  …  1  1  0  0  1  1  0  0  0  0  0  0\n",
       " 0  0  0  0  0  0  0  0  0  0  0  0  0     0  0  0  0  0  0  0  0  0  0  0  1\n",
       " 0  0  0  0  0  0  0  0  0  0  0  0  0     0  0  0  0  0  0  0  0  1  0  0  0\n",
       " 0  0  0  1  0  0  0  0  0  0  0  0  0     0  0  0  0  0  0  0  0  0  0  1  0\n",
       " 0  0  0  0  0  0  0  0  0  0  0  1  0     0  0  0  0  0  0  0  0  0  0  0  0\n",
       " 0  0  0  0  0  0  0  0  0  0  0  0  0  …  0  0  0  0  0  0  0  0  0  0  0  0\n",
       " 0  0  0  0  0  0  1  0  0  0  0  0  0     0  0  0  1  0  0  0  0  0  0  0  0\n",
       " 0  0  0  0  0  0  0  0  0  0  1  0  0     0  0  0  0  0  0  0  0  0  0  0  0\n",
       " 0  0  0  0  0  0  0  0  0  0  0  0  0     0  0  0  0  0  0  0  0  0  1  0  0\n",
       " 0  0  0  0  0  0  0  0  0  0  0  0  0     0  0  0  0  0  0  0  0  0  0  0  0\n",
       " 0  0  0  0  0  0  0  0  0  0  0  0  0  …  0  0  1  0  0  0  0  0  0  0  0  0\n",
       " 0  0  0  0  0  0  0  0  0  0  0  0  0     0  0  0  0  0  0  1  0  0  0  0  0\n",
       " 0  0  0  0  0  0  0  0  0  0  0  0  0     0  0  0  0  0  0  0  0  0  0  0  0\n",
       " 0  0  1  0  0  0  0  0  0  0  0  0  0     0  0  0  0  0  0  0  0  0  0  0  0\n",
       " 0  0  0  0  0  0  0  1  0  0  0  0  0     0  0  0  0  0  0  0  1  0  0  0  0\n",
       " 0  0  0  0  0  0  0  0  0  0  0  0  0  …  0  0  0  0  0  0  0  0  0  0  0  0\n",
       " 0  0  0  0  0  0  0  0  0  0  0  0  0     0  0  0  0  0  0  0  0  0  0  0  0\n",
       " 0  0  0  0  0  0  0  0  0  0  0  0  0     0  0  0  0  0  0  0  0  0  0  0  0\n",
       " 0  0  0  0  0  0  0  0  0  0  0  0  0     0  0  0  0  0  0  0  0  0  0  0  0\n",
       " 0  0  0  0  0  0  0  0  0  0  0  0  0     0  0  0  0  0  0  0  0  0  0  0  0"
      ]
     },
     "execution_count": 39,
     "metadata": {},
     "output_type": "execute_result"
    }
   ],
   "source": [
    "Flux.onehotbatch(reshape(x, pad_size*N), 0:vocab_size-1)\n",
    "# One hot encoded matrix has 1s on the positions of the vocab index (Eg 0 0 13 3 for first word vector)\n",
    "# All the vectors are placed side by side concatenated"
   ]
  },
  {
   "cell_type": "code",
   "execution_count": 44,
   "metadata": {},
   "outputs": [
    {
     "data": {
      "text/plain": [
       "Descent(0.01)"
      ]
     },
     "execution_count": 44,
     "metadata": {},
     "output_type": "execute_result"
    }
   ],
   "source": [
    "loss_h=[]\n",
    "accuracy_train=[]\n",
    "accuracy(x, y) = mean(x .== y)\n",
    "loss(x, y) = sum(Flux.binarycrossentropy.(m(x), y))\n",
    "optimizer = Flux.Descent(0.01)"
   ]
  },
  {
   "cell_type": "code",
   "execution_count": 45,
   "metadata": {},
   "outputs": [
    {
     "name": "stdout",
     "output_type": "stream",
     "text": [
      "8.477022 0.4\n",
      "7.433271 0.6\n",
      "6.7485995 0.4\n",
      "6.1744123 0.6\n",
      "5.6852417 0.6\n",
      "5.261686 0.6\n",
      "4.893052 0.7\n",
      "4.5708785 0.8\n",
      "4.288175 0.8\n",
      "4.038999 0.9\n",
      "3.8183239 0.9\n",
      "3.6219194 0.9\n",
      "3.446241 1.0\n",
      "3.2883253 1.0\n",
      "3.145696 1.0\n",
      "3.0162797 1.0\n",
      "2.8983374 1.0\n",
      "2.7904053 1.0\n",
      "2.6912456 1.0\n",
      "2.5998104 1.0\n",
      "2.5152059 1.0\n",
      "2.436668 1.0\n",
      "2.3635402 1.0\n",
      "2.295256 1.0\n",
      "2.2313247 1.0\n",
      "2.1713204 1.0\n",
      "2.1148689 1.0\n",
      "2.061645 1.0\n",
      "2.0113606 1.0\n",
      "1.9637619 1.0\n",
      "1.9186236 1.0\n",
      "1.8757467 1.0\n",
      "1.8349513 1.0\n",
      "1.796079 1.0\n",
      "1.7589859 1.0\n",
      "1.7235436 1.0\n",
      "1.6896348 1.0\n",
      "1.6571554 1.0\n",
      "1.6260089 1.0\n",
      "1.5961094 1.0\n",
      "1.5673769 1.0\n",
      "1.5397395 1.0\n",
      "1.5131315 1.0\n",
      "1.4874914 1.0\n",
      "1.4627638 1.0\n",
      "1.4388969 1.0\n",
      "1.4158437 1.0\n",
      "1.3935599 1.0\n",
      "1.372006 1.0\n",
      "1.3511434 1.0\n",
      "1.3309369 1.0\n",
      "1.3113552 1.0\n",
      "1.2923667 1.0\n",
      "1.2739435 1.0\n",
      "1.2560595 1.0\n",
      "1.23869 1.0\n",
      "1.221812 1.0\n",
      "1.205403 1.0\n",
      "1.1894431 1.0\n",
      "1.1739131 1.0\n",
      "1.1587954 1.0\n",
      "1.1440723 1.0\n",
      "1.1297278 1.0\n",
      "1.1157477 1.0\n",
      "1.1021167 1.0\n",
      "1.0888216 1.0\n",
      "1.0758497 1.0\n",
      "1.0631886 1.0\n",
      "1.0508268 1.0\n",
      "1.0387541 1.0\n",
      "1.0269595 1.0\n",
      "1.0154331 1.0\n",
      "1.0041659 1.0\n",
      "0.99314845 1.0\n",
      "0.98237276 1.0\n",
      "0.9718302 1.0\n",
      "0.9615138 1.0\n",
      "0.9514152 1.0\n",
      "0.94152826 1.0\n",
      "0.9318455 1.0\n",
      "0.92236084 1.0\n",
      "0.9130679 1.0\n",
      "0.9039615 1.0\n",
      "0.8950348 1.0\n",
      "0.8862834 1.0\n",
      "0.8777014 1.0\n",
      "0.8692845 1.0\n",
      "0.86102694 1.0\n",
      "0.85292494 1.0\n",
      "0.8449737 1.0\n",
      "0.83716923 1.0\n",
      "0.82950705 1.0\n",
      "0.8219837 1.0\n",
      "0.81459516 1.0\n",
      "0.8073377 1.0\n",
      "0.8002081 1.0\n",
      "0.79320246 1.0\n",
      "0.78631777 1.0\n",
      "0.7795512 1.0\n",
      "0.77289915 1.0\n",
      "0.7663592 1.0\n",
      "0.7599283 1.0\n",
      "0.75360376 1.0\n",
      "0.7473827 1.0\n",
      "0.741263 1.0\n",
      "0.7352415 1.0\n",
      "0.72931665 1.0\n",
      "0.7234855 1.0\n",
      "0.71774626 1.0\n",
      "0.7120966 1.0\n",
      "0.7065339 1.0\n",
      "0.70105755 1.0\n",
      "0.6956642 1.0\n",
      "0.69035214 1.0\n",
      "0.68512 1.0\n",
      "0.6799659 1.0\n",
      "0.67488796 1.0\n",
      "0.66988456 1.0\n",
      "0.66495395 1.0\n",
      "0.6600945 1.0\n",
      "0.65530515 1.0\n",
      "0.65058357 1.0\n",
      "0.6459293 1.0\n",
      "0.6413401 1.0\n",
      "0.6368149 1.0\n",
      "0.6323525 1.0\n",
      "0.6279514 1.0\n",
      "0.62361056 1.0\n",
      "0.6193284 1.0\n",
      "0.61510396 1.0\n",
      "0.6109363 1.0\n",
      "0.60682416 1.0\n",
      "0.60276586 1.0\n",
      "0.5987613 1.0\n",
      "0.5948087 1.0\n",
      "0.5909074 1.0\n",
      "0.58705646 1.0\n",
      "0.58325464 1.0\n",
      "0.5795007 1.0\n",
      "0.5757944 1.0\n",
      "0.5721349 1.0\n",
      "0.56852084 1.0\n",
      "0.5649517 1.0\n",
      "0.56142634 1.0\n",
      "0.55794424 1.0\n",
      "0.55450445 1.0\n",
      "0.55110633 1.0\n",
      "0.5477489 1.0\n",
      "0.5444318 1.0\n",
      "0.5411541 1.0\n",
      "0.5379152 1.0\n",
      "0.5347141 1.0\n",
      "0.53155047 1.0\n",
      "0.5284236 1.0\n",
      "0.5253328 1.0\n",
      "0.5222775 1.0\n",
      "0.519257 1.0\n",
      "0.51627094 1.0\n",
      "0.5133185 1.0\n",
      "0.5103992 1.0\n",
      "0.5075122 1.0\n",
      "0.5046576 1.0\n",
      "0.5018343 1.0\n",
      "0.49904236 1.0\n",
      "0.49628073 1.0\n",
      "0.49354884 1.0\n",
      "0.49084675 1.0\n",
      "0.4881734 1.0\n",
      "0.4855289 1.0\n",
      "0.4829125 1.0\n",
      "0.4803235 1.0\n",
      "0.477762 1.0\n",
      "0.47522733 1.0\n",
      "0.47271892 1.0\n",
      "0.47023672 1.0\n",
      "0.4677799 1.0\n",
      "0.46534833 1.0\n",
      "0.46294174 1.0\n",
      "0.46055928 1.0\n",
      "0.45820105 1.0\n",
      "0.45586666 1.0\n",
      "0.4535555 1.0\n",
      "0.45126745 1.0\n",
      "0.44900188 1.0\n",
      "0.44675875 1.0\n",
      "0.4445378 1.0\n",
      "0.44233847 1.0\n",
      "0.4401601 1.0\n",
      "0.43800324 1.0\n",
      "0.43586707 1.0\n",
      "0.43375137 1.0\n",
      "0.43165573 1.0\n",
      "0.42958006 1.0\n",
      "0.42752415 1.0\n",
      "0.42548725 1.0\n",
      "0.42346954 1.0\n",
      "0.4214709 1.0\n",
      "0.4194905 1.0\n",
      "0.41752863 1.0\n",
      "0.4155847 1.0\n",
      "0.41365823 1.0\n",
      "0.4117498 1.0\n",
      "0.4098587 1.0\n",
      "0.40798435 1.0\n",
      "0.4061268 1.0\n",
      "0.40428603 1.0\n",
      "0.40246183 1.0\n",
      "0.40065366 1.0\n",
      "0.39886156 1.0\n",
      "0.39708507 1.0\n",
      "0.39532426 1.0\n",
      "0.39357865 1.0\n",
      "0.39184827 1.0\n",
      "0.39013276 1.0\n",
      "0.3884323 1.0\n",
      "0.3867462 1.0\n",
      "0.38507447 1.0\n",
      "0.38341722 1.0\n",
      "0.38177395 1.0\n",
      "0.38014427 1.0\n",
      "0.3785286 1.0\n",
      "0.3769262 1.0\n",
      "0.3753372 1.0\n",
      "0.37376142 1.0\n",
      "0.3721987 1.0\n",
      "0.3706486 1.0\n",
      "0.36911154 1.0\n",
      "0.3675869 1.0\n",
      "0.3660746 1.0\n",
      "0.36457443 1.0\n",
      "0.3630868 1.0\n",
      "0.36161077 1.0\n",
      "0.36014682 1.0\n",
      "0.35869431 1.0\n",
      "0.35725322 1.0\n",
      "0.35582387 1.0\n",
      "0.3544055 1.0\n",
      "0.35299844 1.0\n",
      "0.3516022 1.0\n",
      "0.35021716 1.0\n",
      "0.34884262 1.0\n",
      "0.34747872 1.0\n",
      "0.34612533 1.0\n",
      "0.34478238 1.0\n",
      "0.34344965 1.0\n",
      "0.34212703 1.0\n",
      "0.3408144 1.0\n",
      "0.33951196 1.0\n",
      "0.33821929 1.0\n",
      "0.33693597 1.0\n",
      "0.3356624 1.0\n",
      "0.33439866 1.0\n",
      "0.3331438 1.0\n",
      "0.33189842 1.0\n",
      "0.3306623 1.0\n",
      "0.32943526 1.0\n",
      "0.32821706 1.0\n",
      "0.32700792 1.0\n",
      "0.32580742 1.0\n",
      "0.32461563 1.0\n",
      "0.3234325 1.0\n",
      "0.3222578 1.0\n",
      "0.3210917 1.0\n",
      "0.31993365 1.0\n",
      "0.318784 1.0\n",
      "0.31764257 1.0\n",
      "0.31650904 1.0\n",
      "0.31538332 1.0\n",
      "0.31426567 1.0\n",
      "0.3131559 1.0\n",
      "0.3120541 1.0\n",
      "0.31095958 1.0\n",
      "0.3098727 1.0\n",
      "0.3087934 1.0\n",
      "0.3077215 1.0\n",
      "0.3066569 1.0\n",
      "0.3055995 1.0\n",
      "0.3045494 1.0\n",
      "0.30350655 1.0\n",
      "0.30247054 1.0\n",
      "0.30144134 1.0\n",
      "0.30041936 1.0\n",
      "0.2994042 1.0\n",
      "0.2983959 1.0\n",
      "0.29739398 1.0\n",
      "0.29639885 1.0\n",
      "0.29541045 1.0\n",
      "0.2944284 1.0\n",
      "0.2934528 1.0\n",
      "0.29248375 1.0\n",
      "0.29152077 1.0\n",
      "0.29056415 1.0\n",
      "0.28961375 1.0\n",
      "0.28866956 1.0\n",
      "0.28773123 1.0\n",
      "0.28679937 1.0\n",
      "0.285873 1.0\n",
      "0.28495264 1.0\n",
      "0.2840383 1.0\n",
      "0.28312954 1.0\n",
      "0.28222665 1.0\n",
      "0.28132933 1.0\n",
      "0.28043777 1.0\n",
      "0.27955177 1.0\n",
      "0.27867144 1.0\n",
      "0.2777965 1.0\n",
      "0.27692673 1.0\n",
      "0.27606252 1.0\n",
      "0.27520368 1.0\n",
      "0.2743501 1.0\n",
      "0.27350193 1.0\n",
      "0.27265882 1.0\n",
      "0.2718207 1.0\n",
      "0.27098793 1.0\n",
      "0.27016002 1.0\n",
      "0.26933706 1.0\n",
      "0.2685193 1.0\n",
      "0.26770613 1.0\n",
      "0.26689804 1.0\n",
      "0.26609474 1.0\n",
      "0.265296 1.0\n",
      "0.26450247 1.0\n",
      "0.2637131 1.0\n",
      "0.26292872 1.0\n",
      "0.26214904 1.0\n",
      "0.26137373 1.0\n",
      "0.2606029 1.0\n",
      "0.2598368 1.0\n",
      "0.25907493 1.0\n",
      "0.25831774 1.0\n",
      "0.25756478 1.0\n",
      "0.256816 1.0\n",
      "0.25607195 1.0\n",
      "0.25533175 1.0\n",
      "0.25459567 1.0\n",
      "0.25386414 1.0\n",
      "0.25313652 1.0\n",
      "0.25241342 1.0\n",
      "0.251694 1.0\n",
      "0.25097892 1.0\n",
      "0.25026768 1.0\n",
      "0.24956039 1.0\n",
      "0.24885722 1.0\n",
      "0.24815792 1.0\n",
      "0.24746235 1.0\n",
      "0.24677077 1.0\n",
      "0.24608332 1.0\n",
      "0.2453992 1.0\n",
      "0.24471883 1.0\n",
      "0.24404253 1.0\n",
      "0.24336976 1.0\n",
      "0.24270073 1.0\n",
      "0.24203524 1.0\n",
      "0.24137333 1.0\n",
      "0.24071509 1.0\n",
      "0.2400606 1.0\n",
      "0.23940948 1.0\n",
      "0.23876157 1.0\n",
      "0.23811741 1.0\n",
      "0.23747665 1.0\n",
      "0.2368393 1.0\n",
      "0.23620532 1.0\n",
      "0.23557478 1.0\n",
      "0.2349475 1.0\n",
      "0.23432347 1.0\n",
      "0.23370294 1.0\n",
      "0.23308545 1.0\n",
      "0.23247136 1.0\n",
      "0.23186015 1.0\n",
      "0.23125252 1.0\n",
      "0.230648 1.0\n",
      "0.23004642 1.0\n",
      "0.22944792 1.0\n",
      "0.22885245 1.0\n",
      "0.22826023 1.0\n",
      "0.2276711 1.0\n",
      "0.2270848 1.0\n",
      "0.2265016 1.0\n",
      "0.22592144 1.0\n",
      "0.22534415 1.0\n",
      "0.22476971 1.0\n",
      "0.22419827 1.0\n",
      "0.22362973 1.0\n",
      "0.22306393 1.0\n",
      "0.22250104 1.0\n",
      "0.22194082 1.0\n",
      "0.22138336 1.0\n",
      "0.22082898 1.0\n",
      "0.22027719 1.0\n",
      "0.21972832 1.0\n",
      "0.219182 1.0\n",
      "0.21863833 1.0\n",
      "0.21809727 1.0\n",
      "0.21755919 1.0\n",
      "0.21702346 1.0\n",
      "0.21649007 1.0\n",
      "0.21595973 1.0\n",
      "0.21543187 1.0\n",
      "0.21490681 1.0\n",
      "0.21438383 1.0\n",
      "Bool[1 1 1 1 1 0 0 0 0 0]\n"
     ]
    },
    {
     "data": {
      "text/plain": [
       "1.0"
      ]
     },
     "execution_count": 45,
     "metadata": {},
     "output_type": "execute_result"
    }
   ],
   "source": [
    "for epoch in 1:400\n",
    "    Flux.train!(loss, Flux.params(m), data, optimizer)\n",
    "    println(loss(x, y), \" \", accuracy(m(x).>0.5,y))\n",
    "    push!(loss_h, loss(x, y))\n",
    "    push!(accuracy_train, accuracy(m(x).>0.5,y))\n",
    "end\n",
    "println(m(x).>0.5)\n",
    "accuracy(m(x).>0.5,y)"
   ]
  },
  {
   "cell_type": "code",
   "execution_count": 46,
   "metadata": {},
   "outputs": [
    {
     "data": {
      "image/png": "[encoded data removed]",
      "text/plain": [
       "Figure(PyObject <Figure size 1200x500 with 2 Axes>)"
      ]
     },
     "metadata": {},
     "output_type": "display_data"
    },
    {
     "data": {
      "text/plain": [
       "1-element Array{PyCall.PyObject,1}:\n",
       " PyObject <matplotlib.lines.Line2D object at 0x194fd9490>"
      ]
     },
     "execution_count": 46,
     "metadata": {},
     "output_type": "execute_result"
    }
   ],
   "source": [
    "figure(figsize=(12,5))\n",
    "subplot(121)\n",
    "PyPlot.xlabel(\"Epoch\")\n",
    "ylabel(\"Loss\")\n",
    "plot(loss_h)\n",
    "\n",
    "subplot(122)\n",
    "PyPlot.xlabel(\"Epoch\")\n",
    "ylabel(\"Accuracy\")\n",
    "plot(accuracy_train, label=\"train\")"
   ]
  }
 ],
 "metadata": {
  "kernelspec": {
   "display_name": "Julia 1.3.1",
   "language": "julia",
   "name": "julia-1.3"
  },
  "language_info": {
   "file_extension": ".jl",
   "mimetype": "application/julia",
   "name": "julia",
   "version": "1.3.1"
  }
 },
 "nbformat": 4,
 "nbformat_minor": 2
}
