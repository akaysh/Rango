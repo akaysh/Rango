{
 "cells": [
  {
   "cell_type": "code",
   "execution_count": 1,
   "metadata": {},
   "outputs": [],
   "source": [
    "using Distances, Statistics\n",
    "using MultivariateStats\n",
    "using PyPlot\n",
    "using WordTokenizers\n",
    "using TextAnalysis\n",
    "using DelimitedFiles\n",
    "using Embeddings"
   ]
  },
  {
   "cell_type": "code",
   "execution_count": 2,
   "metadata": {},
   "outputs": [
    {
     "data": {
      "text/plain": [
       "Dict{String,Int64} with 400000 entries:\n",
       "  \"newdigate\"   => 164100\n",
       "  \"daufuskie\"   => 254784\n",
       "  \"single-arm\"  => 192007\n",
       "  \"titration\"   => 117879\n",
       "  \"qajar\"       => 66399\n",
       "  \"pinheiro\"    => 38763\n",
       "  \"hospitalet\"  => 282158\n",
       "  \"kennedale\"   => 223560\n",
       "  \"tetracyclic\" => 353804\n",
       "  \"moher\"       => 167242\n",
       "  \"entomb\"      => 205770\n",
       "  \"vanderwerff\" => 103628\n",
       "  \"whiz\"        => 27921\n",
       "  \"hi5\"         => 281945\n",
       "  \"johnswort\"   => 373288\n",
       "  \"11-storey\"   => 214529\n",
       "  \"clapboards\"  => 108701\n",
       "  \"saïd\"        => 121097\n",
       "  \"nóg\"         => 199967\n",
       "  \"re-connect\"  => 356829\n",
       "  \"raghunathan\" => 257153\n",
       "  \"13-michael\"  => 314161\n",
       "  \"droeshout\"   => 360036\n",
       "  \"sobre\"       => 33750\n",
       "  \"cavens\"      => 309349\n",
       "  ⋮             => ⋮"
      ]
     },
     "execution_count": 2,
     "metadata": {},
     "output_type": "execute_result"
    }
   ],
   "source": [
    "const embtable = load_embeddings(GloVe{:en},1) # or load_embeddings(FastText_Text) or ...\n",
    "#Function to return the index of the word in the embedding (returns 0 if the word is not found)\n",
    "const get_word_index = Dict(word=>ii for (ii,word) in enumerate(embtable.vocab))\n"
   ]
  },
  {
   "cell_type": "code",
   "execution_count": 3,
   "metadata": {},
   "outputs": [
    {
     "name": "stdout",
     "output_type": "stream",
     "text": [
      "Loaded embeddings, each word is represented by a vector with 50 features. The vocab size is 400000\n"
     ]
    }
   ],
   "source": [
    "embeddings = embtable.embeddings\n",
    "vocab = embtable.vocab\n",
    "vec_size, vocab_size = size(embeddings)\n",
    "println(\"Loaded embeddings, each word is represented by a vector with $vec_size features. The vocab size is $vocab_size\")"
   ]
  },
  {
   "cell_type": "code",
   "execution_count": 4,
   "metadata": {},
   "outputs": [
    {
     "data": {
      "text/plain": [
       "vec (generic function with 1 method)"
      ]
     },
     "execution_count": 4,
     "metadata": {},
     "output_type": "execute_result"
    }
   ],
   "source": [
    "vec_idx(s) = findfirst(x -> x==s, vocab)\n",
    "function vec(s) \n",
    "    if vec_idx(s)!=nothing\n",
    "        embeddings[:, vec_idx(s)]\n",
    "    end    \n",
    "end"
   ]
  },
  {
   "cell_type": "code",
   "execution_count": 5,
   "metadata": {},
   "outputs": [
    {
     "data": {
      "text/plain": [
       "50-element Array{Float32,1}:\n",
       " -0.053903\n",
       " -0.30871 \n",
       " -1.3285  \n",
       " -0.43342 \n",
       "  0.31779 \n",
       "  1.5224  \n",
       " -0.6965  \n",
       " -0.037086\n",
       " -0.83784 \n",
       "  0.074107\n",
       " -0.30532 \n",
       " -0.1783  \n",
       "  1.2337  \n",
       "  ⋮       \n",
       "  1.9502  \n",
       " -0.53274 \n",
       "  1.1359  \n",
       "  0.20027 \n",
       "  0.02245 \n",
       " -0.39379 \n",
       "  1.0609  \n",
       "  1.585   \n",
       "  0.17889 \n",
       "  0.43556 \n",
       "  0.68161 \n",
       "  0.066202"
      ]
     },
     "execution_count": 5,
     "metadata": {},
     "output_type": "execute_result"
    }
   ],
   "source": [
    "vec_idx(\"cheese\"); vec(\"cheese\")"
   ]
  },
  {
   "cell_type": "code",
   "execution_count": 6,
   "metadata": {},
   "outputs": [
    {
     "data": {
      "text/plain": [
       "cosine (generic function with 1 method)"
      ]
     },
     "execution_count": 6,
     "metadata": {},
     "output_type": "execute_result"
    }
   ],
   "source": [
    "# To compare the similarity of document vectors\n",
    "cosine(x,y)=1-cosine_dist(x, y)"
   ]
  },
  {
   "cell_type": "code",
   "execution_count": 7,
   "metadata": {},
   "outputs": [
    {
     "data": {
      "text/plain": [
       "(0.775492f0, 0.8564431f0)"
      ]
     },
     "execution_count": 7,
     "metadata": {},
     "output_type": "execute_result"
    }
   ],
   "source": [
    "cosine(vec(\"dog\"), vec(\"puppy\")), cosine(vec(\"man\"),vec(\"boy\"))"
   ]
  },
  {
   "cell_type": "code",
   "execution_count": 8,
   "metadata": {},
   "outputs": [
    {
     "data": {
      "text/plain": [
       "closest (generic function with 2 methods)"
      ]
     },
     "execution_count": 8,
     "metadata": {},
     "output_type": "execute_result"
    }
   ],
   "source": [
    "function closest(v, n=20)\n",
    "    list=[(x,cosine(embeddings'[x,:], v)) for x in 1:size(embeddings)[2]]\n",
    "    topn_idx=sort(list, by = x -> x[2], rev=true)[1:n]\n",
    "    return [vocab[a] for (a,_) in topn_idx]\n",
    "end"
   ]
  },
  {
   "cell_type": "code",
   "execution_count": 9,
   "metadata": {},
   "outputs": [
    {
     "data": {
      "text/plain": [
       "20-element Array{String,1}:\n",
       " \"elephant\" \n",
       " \"elephants\"\n",
       " \"bird\"     \n",
       " \"crocodile\"\n",
       " \"deer\"     \n",
       " \"sheep\"    \n",
       " \"herd\"     \n",
       " \"pig\"      \n",
       " \"dolphin\"  \n",
       " \"boar\"     \n",
       " \"rabbit\"   \n",
       " \"whale\"    \n",
       " \"cat\"      \n",
       " \"monkey\"   \n",
       " \"lion\"     \n",
       " \"goats\"    \n",
       " \"animals\"  \n",
       " \"animal\"   \n",
       " \"ape\"      \n",
       " \"owl\"      "
      ]
     },
     "execution_count": 9,
     "metadata": {},
     "output_type": "execute_result"
    }
   ],
   "source": [
    "closest(vec(\"elephant\"))"
   ]
  },
  {
   "cell_type": "code",
   "execution_count": 10,
   "metadata": {},
   "outputs": [
    {
     "data": {
      "text/plain": [
       "20-element Array{String,1}:\n",
       " \"night\"    \n",
       " \"day\"      \n",
       " \"days\"     \n",
       " \"weekend\"  \n",
       " \"morning\"  \n",
       " \"sunday\"   \n",
       " \"afternoon\"\n",
       " \"saturday\" \n",
       " \"came\"     \n",
       " \"week\"     \n",
       " \"evening\"  \n",
       " \"coming\"   \n",
       " \"next\"     \n",
       " \"on\"       \n",
       " \"before\"   \n",
       " \"hours\"    \n",
       " \"weeks\"    \n",
       " \"went\"     \n",
       " \"hour\"     \n",
       " \"time\"     "
      ]
     },
     "execution_count": 10,
     "metadata": {},
     "output_type": "execute_result"
    }
   ],
   "source": [
    "closest(mean([vec(\"day\"), vec(\"night\")]))"
   ]
  },
  {
   "cell_type": "code",
   "execution_count": 11,
   "metadata": {},
   "outputs": [
    {
     "data": {
      "text/plain": [
       "20-element Array{String,1}:\n",
       " \"grass\"   \n",
       " \"green\"   \n",
       " \"leaf\"    \n",
       " \"cane\"    \n",
       " \"bamboo\"  \n",
       " \"trees\"   \n",
       " \"grasses\" \n",
       " \"tree\"    \n",
       " \"yellow\"  \n",
       " \"lawn\"    \n",
       " \"cotton\"  \n",
       " \"lawns\"   \n",
       " \"red\"     \n",
       " \"pink\"    \n",
       " \"farm\"    \n",
       " \"turf\"    \n",
       " \"vine\"    \n",
       " \"rubber\"  \n",
       " \"soft\"    \n",
       " \"chestnut\""
      ]
     },
     "execution_count": 11,
     "metadata": {},
     "output_type": "execute_result"
    }
   ],
   "source": [
    "blue_to_sky = vec(\"blue\") - vec(\"sky\")\n",
    "closest(blue_to_sky + vec(\"grass\"))"
   ]
  },
  {
   "cell_type": "code",
   "execution_count": 12,
   "metadata": {},
   "outputs": [
    {
     "data": {
      "text/plain": [
       "20-element Array{String,1}:\n",
       " \"queen\"     \n",
       " \"king\"      \n",
       " \"prince\"    \n",
       " \"crown\"     \n",
       " \"coronation\"\n",
       " \"royal\"     \n",
       " \"knight\"    \n",
       " \"lord\"      \n",
       " \"lady\"      \n",
       " \"ii\"        \n",
       " \"great\"     \n",
       " \"majesty\"   \n",
       " \"honour\"    \n",
       " \"name\"      \n",
       " \"palace\"    \n",
       " \"crowned\"   \n",
       " \"famous\"    \n",
       " \"throne\"    \n",
       " \"dragon\"    \n",
       " \"named\"     "
      ]
     },
     "execution_count": 12,
     "metadata": {},
     "output_type": "execute_result"
    }
   ],
   "source": [
    "closest(vec(\"man\") - vec(\"woman\") + vec(\"queen\"))"
   ]
  },
  {
   "cell_type": "code",
   "execution_count": 13,
   "metadata": {},
   "outputs": [
    {
     "name": "stdout",
     "output_type": "stream",
     "text": [
      "Loaded Dracula, length=883114 characters\n"
     ]
    }
   ],
   "source": [
    "txt = open(\"pg345.txt\") do file\n",
    "    read(file, String)\n",
    "end\n",
    "println(\"Loaded Dracula, length=$(length(txt)) characters\")"
   ]
  },
  {
   "cell_type": "code",
   "execution_count": 14,
   "metadata": {},
   "outputs": [],
   "source": [
    "txt = replace(txt, r\"\\n|\\r|_|,|—\" => \" \")\n",
    "txt = replace(txt, r\"[\\\"”“*();!]\" => \"\")\n",
    "sd=StringDocument(txt)\n",
    "prepare!(sd, strip_whitespace)\n",
    "sentences = split_sentences(sd.text)\n",
    "i=1\n",
    "for s in 1:length(sentences)\n",
    "    if length(split(sentences[s]))>3\n",
    "        sentences[i]=lowercase(replace(sentences[s], \".\"=>\"\"))\n",
    "        i+=1\n",
    "    end\n",
    "end\n"
   ]
  },
  {
   "cell_type": "code",
   "execution_count": 15,
   "metadata": {},
   "outputs": [
    {
     "data": {
      "text/plain": [
       "11-element Array{SubString{String},1}:\n",
       " \"i can fancy what a wonderful power he must have over his patients\"                                                          \n",
       " \"he has a curious habit of looking one straight in the face as if trying to read one's thoughts\"                             \n",
       " \"he tries this on very much with me but i flatter myself he has got a tough nut to crack\"                                    \n",
       " \"i know that from my glass\"                                                                                                  \n",
       " \"do you ever try to read your own face?\"                                                                                     \n",
       " \"i do and i can tell you it is not a bad study and gives you more trouble than you can well fancy if you have never tried it\"\n",
       " \"he says that i afford him a curious psychological study and i humbly think i do\"                                            \n",
       " \"i do not as you know take sufficient interest in dress to be able to describe the new fashions\"                             \n",
       " \"dress is a bore\"                                                                                                            \n",
       " \"that is slang again but never mind arthur says that every day\"                                                              \n",
       " \"there it is all out\"                                                                                                        "
      ]
     },
     "execution_count": 15,
     "metadata": {},
     "output_type": "execute_result"
    }
   ],
   "source": [
    "sentences[1000:1010]"
   ]
  },
  {
   "cell_type": "code",
   "execution_count": 16,
   "metadata": {},
   "outputs": [
    {
     "data": {
      "text/plain": [
       "sentvec (generic function with 1 method)"
      ]
     },
     "execution_count": 16,
     "metadata": {},
     "output_type": "execute_result"
    }
   ],
   "source": [
    "# Function to get a mean sentence vector\n",
    "function sentvec(s) \n",
    "    local arr=[]\n",
    "    for w in split(sentences[s])\n",
    "        if vec(w)!=nothing\n",
    "            push!(arr, vec(w))\n",
    "        end\n",
    "    end\n",
    "    if length(arr)==0\n",
    "        ones(Float32, (50,1))*999\n",
    "    else\n",
    "        mean(arr)\n",
    "    end\n",
    "end"
   ]
  },
  {
   "cell_type": "code",
   "execution_count": 22,
   "metadata": {},
   "outputs": [
    {
     "data": {
      "text/plain": [
       "closest_sent (generic function with 2 methods)"
      ]
     },
     "execution_count": 22,
     "metadata": {},
     "output_type": "execute_result"
    }
   ],
   "source": [
    "function closest_sent(input_str, n=20)\n",
    "    mean_vec_input=mean([vec(w) for w in split(input_str)])\n",
    "    list=[(x,cosine(mean_vec_input, sentvec(x))) for x in 1:length(sentences)]\n",
    "    topn_idx=sort(list, by = x -> x[2], rev=true)[1:n]\n",
    "    return [sentences[a] for (a,_) in topn_idx]\n",
    "end"
   ]
  },
  {
   "cell_type": "code",
   "execution_count": 19,
   "metadata": {},
   "outputs": [
    {
     "data": {
      "text/plain": [
       "\"there was everywhere a bewildering mass of fruit blossom--apple plum pear cherry and as we drove by i could see the green grass under the trees spangled with the fallen petals\""
      ]
     },
     "execution_count": 19,
     "metadata": {},
     "output_type": "execute_result"
    }
   ],
   "source": [
    "sentences[100]"
   ]
  },
  {
   "cell_type": "code",
   "execution_count": 21,
   "metadata": {},
   "outputs": [
    {
     "data": {
      "text/plain": [
       "50-element Array{Float32,1}:\n",
       "  0.3447293   \n",
       "  0.39965677  \n",
       " -0.054723457 \n",
       " -0.07291292  \n",
       "  0.21394199  \n",
       "  0.15642972  \n",
       " -0.49596983  \n",
       " -0.24674776  \n",
       " -0.23787305  \n",
       " -0.4288543   \n",
       " -0.314565    \n",
       " -0.18126178  \n",
       " -0.15339927  \n",
       "  ⋮           \n",
       "  0.08461739  \n",
       " -0.20704514  \n",
       " -0.22955278  \n",
       " -0.011368492 \n",
       "  0.03529108  \n",
       "  0.057512715 \n",
       " -0.0074529666\n",
       "  0.02252327  \n",
       "  0.037329756 \n",
       " -0.52179056  \n",
       " -0.076994695 \n",
       " -0.49725753  "
      ]
     },
     "execution_count": 21,
     "metadata": {},
     "output_type": "execute_result"
    }
   ],
   "source": [
    "sentvec(99)"
   ]
  },
  {
   "cell_type": "code",
   "execution_count": 23,
   "metadata": {},
   "outputs": [
    {
     "data": {
      "text/plain": [
       "20-element Array{SubString{String},1}:\n",
       " \"We get hot soup or coffee or tea and off we go.\"                                                                                                                                                                                                                                                      \n",
       " \"we get hot soup or coffee or tea and off we go\"                                                                                                                                                                                                                                                       \n",
       " \"drink it off like a good child\"                                                                                                                                                                                                                                                                       \n",
       " \"this with some cheese and a salad and a bottle of old tokay of which i had two glasses was my supper\"                                                                                                                                                                                                 \n",
       " \"i had for dinner or rather supper a chicken done up some way with red pepper which was very good but thirsty\"                                                                                                                                                                                         \n",
       " \"i had for breakfast more paprika and a sort of porridge of maize flour which they said was mamaliga and egg-plant stuffed with forcemeat a very excellent dish which they call impletata\"                                                                                                             \n",
       " \"there is not even a toilet glass on my table and i had to get the little shaving glass from my bag before i could either shave or brush my hair\"                                                                                                                                                      \n",
       " \"mem get recipe for this also\"                                                                                                                                                                                                                                                                         \n",
       " \"oh yes they like the lotus flower make your trouble forgotten\"                                                                                                                                                                                                                                        \n",
       " \"i have grown quite fond of the garlic and a boxful arrives for me every day from haarlem\"                                                                                                                                                                                                             \n",
       " \"i dined on what they called robber steak--bits of bacon onion and beef seasoned with red pepper and strung on sticks and roasted over the fire in the simple style of the london cat's meat the wine was golden mediasch which produces a queer sting on the tongue which is however not disagreeable\"\n",
       " \"she has more colour in her cheeks than usual and looks oh so sweet\"                                                                                                                                                                                                                                   \n",
       " \"come and we'll have a cup of tea somewhere\"                                                                                                                                                                                                                                                           \n",
       " \"make them get heat and fire and a warm bath\"                                                                                                                                                                                                                                                          \n",
       " \"i left quincey lying down after having a glass of wine and told the cook to get ready a good breakfast\"                                                                                                                                                                                               \n",
       " \"but lor' love yer 'art now that the old 'ooman has stuck a chunk of her tea-cake in me an' rinsed me out with her bloomin' old teapot and i've lit hup you may scratch my ears for all you're worth and won't git even a growl out of me\"                                                             \n",
       " \"good appetite sleeps naturally good spirits colour coming back\"                                                                                                                                                                                                                                       \n",
       " \"first he took from his bag a mass of what looked like thin wafer-like biscuit which was carefully rolled up in a white napkin next he took out a double-handful of some whitish stuff like dough or putty\"                                                                                            \n",
       " \"do not wait for me--d i set to and enjoyed a hearty meal\"                                                                                                                                                                                                                                             \n",
       " \"my eye won't some cook get a rum start when she sees his green eyes a-shining at her out of the dark if he can't get food he's bound to look for it and mayhap he may chance to light on a butcher's shop in time\"                                                                                    "
      ]
     },
     "execution_count": 23,
     "metadata": {},
     "output_type": "execute_result"
    }
   ],
   "source": [
    "closest_sent(\"my favorite food is strawberry ice cream\")"
   ]
  },
  {
   "cell_type": "code",
   "execution_count": 24,
   "metadata": {},
   "outputs": [],
   "source": [
    "drac_sent_vecs=[]\n",
    "for s in 1:length(sentences)\n",
    "    i==1 ? drac_sent_vecs=sentvec(s) : push!(drac_sent_vecs,sentvec(s))\n",
    "end"
   ]
  },
  {
   "cell_type": "code",
   "execution_count": 25,
   "metadata": {},
   "outputs": [],
   "source": [
    "writedlm( \"drac_sent_vec.csv\",  drac_sent_vecs, ',')\n",
    "writedlm( \"drac_sentences.csv\",  sentences, ',')"
   ]
  },
  {
   "cell_type": "code",
   "execution_count": 26,
   "metadata": {},
   "outputs": [
    {
     "data": {
      "text/plain": [
       "8145×50 Array{Float32,2}:\n",
       "   0.395886     0.136462     0.0393325   …   -0.00172208   -0.094155  \n",
       "   0.105341     0.298508    -0.108769        -0.11237       0.108809  \n",
       "   0.306499     0.372668     0.0499599        0.011585     -0.0269931 \n",
       "   0.439134     0.237768    -0.157471        -0.047655     -0.206138  \n",
       "   0.479465     0.0339237    0.0574679       -0.0110334    -0.0810052 \n",
       "   0.305005     0.236101    -0.167058    …   -0.161612     -0.481633  \n",
       "   0.274253    -0.103281    -0.0939105       -0.0443089    -0.0691436 \n",
       "   0.454941     0.308015    -0.376682         0.118407     -0.017146  \n",
       "   0.280243     0.0355603   -0.371213        -0.054871      0.0895917 \n",
       "   0.303624     0.24452     -0.259576        -0.0073874     0.372042  \n",
       "   0.292713     0.0700706   -0.128396    …   -0.0598984     0.0768687 \n",
       "   0.427364     0.0626689   -0.00844564      -0.0528361     0.20124   \n",
       "   0.42247      0.139159    -0.134028        -0.109309     -0.322777  \n",
       "   ⋮                                     ⋱                            \n",
       "   0.527544     0.0679754   -0.0678955       -0.0834867    -0.141069  \n",
       "   0.274218    -0.120684    -0.176243         0.156214     -0.2699    \n",
       "   0.364304     0.277423     0.163191    …    0.00988463   -0.119377  \n",
       "   0.386379     0.203583     0.148782        -6.83427e-5   -0.125681  \n",
       "   0.0938667    0.214723     0.586457        -0.0834033     0.454743  \n",
       "  -0.66594     -0.6551       0.92148         -0.42447      -0.058735  \n",
       "   0.447467     0.25429     -0.151193        -0.0932182    -0.244452  \n",
       "   0.215579     0.135113     0.0431876   …   -0.307311     -0.121217  \n",
       "   0.374962     0.121228    -0.172914        -0.106937     -0.301211  \n",
       "   0.194821    -0.0167174   -0.0303678        0.0276704     0.168872  \n",
       "   0.605342     0.221943     0.21447         -0.143455      0.00104976\n",
       " 999.0        999.0        999.0            999.0         999.0       "
      ]
     },
     "execution_count": 26,
     "metadata": {},
     "output_type": "execute_result"
    }
   ],
   "source": [
    "sentences=readdlm(\"drac_sentences.csv\", '!', String, header=false)\n",
    "drac_sent_vecs=readdlm(\"drac_sent_vec.csv\", ',', Float32, header=false)\n"
   ]
  },
  {
   "cell_type": "code",
   "execution_count": 27,
   "metadata": {},
   "outputs": [
    {
     "data": {
      "text/plain": [
       "closest_sent_pretrained (generic function with 2 methods)"
      ]
     },
     "execution_count": 27,
     "metadata": {},
     "output_type": "execute_result"
    }
   ],
   "source": [
    "function closest_sent_pretrained(pretrained_arr, input_str, n=20)\n",
    "    mean_vec_input=mean([vec(w) for w in split(input_str)])\n",
    "    list=[(x,cosine(mean_vec_input, pretrained_arr[x,:])) for x in 1:length(sentences)]\n",
    "    topn_idx=sort(list, by = x -> x[2], rev=true)[1:n]\n",
    "    return [sentences[a] for (a,_) in topn_idx]\n",
    "end"
   ]
  },
  {
   "cell_type": "code",
   "execution_count": 28,
   "metadata": {},
   "outputs": [
    {
     "data": {
      "text/plain": [
       "20-element Array{String,1}:\n",
       " \"with a glad heart i opened my door and ran down to the hall\"                                                                                                                                                                                   \n",
       " \"i held my door open as he went away and watched him go into his room and close the door\"                                                                                                                                                       \n",
       " \"again a shock: my door was fastened on the outside\"                                                                                                                                                                                            \n",
       " \"suddenly he called out:-- look madam mina look look i sprang up and stood beside him on the rock he handed me his glasses and pointed\"                                                                                                         \n",
       " \"then lucy took me upstairs and showed me a room next her own where a cozy fire was burning\"                                                                                                                                                    \n",
       " \"i keep the key of our door always fastened to my wrist at night but she gets up and walks about the room and sits at the open window\"                                                                                                          \n",
       " \"just before twelve o'clock i just took a look round afore turnin' in an' bust me but when i kem opposite to old bersicker's cage i see the rails broken and twisted about and the cage empty\"                                                  \n",
       " \"if he go through a doorway he must open the door like a mortal\"                                                                                                                                                                                \n",
       " \"i went to the door\"                                                                                                                                                                                                                            \n",
       " \"when i came back i found him walking hurriedly up and down the room his face all ablaze with excitement\"                                                                                                                                       \n",
       " \"i came back to my room and threw myself on my knees\"                                                                                                                                                                                           \n",
       " \"after a few minutes' staring at nothing jonathan's eyes closed and he went quietly into a sleep with his head on my shoulder\"                                                                                                                  \n",
       " \"every window and door was fastened and locked and i returned baffled to the porch\"                                                                                                                                                             \n",
       " \"i sat down beside him and took his hand\"                                                                                                                                                                                                       \n",
       " \"bah with a contemptuous sneer he passed quickly through the door and we heard the rusty bolt creak as he fastened it behind him\"                                                                                                               \n",
       " \"passing through this he opened another door and motioned me to enter\"                                                                                                                                                                          \n",
       " \"Suddenly he called out:-- Look Madam Mina look look I sprang up and stood beside him on the rock he handed me his glasses and pointed.\"                                                                                                        \n",
       " \"just outside stretched on a mattress lay mr morris wide awake\"                                                                                                                                                                                 \n",
       " \"i could see easily for we did not leave the room in darkness she had placed a warning hand over my mouth and now she whispered in my ear:-- hush there is someone in the corridor i got up softly and crossing the room gently opened the door\"\n",
       " \"i have to be away till the afternoon so sleep well and dream well with a courteous bow he opened for me himself the door to the octagonal room and i entered my bedroom\"                                                                       "
      ]
     },
     "execution_count": 28,
     "metadata": {},
     "output_type": "execute_result"
    }
   ],
   "source": [
    "closest_sent_pretrained(drac_sent_vecs, \"i walked into a door\")"
   ]
  },
  {
   "cell_type": "code",
   "execution_count": 1,
   "metadata": {},
   "outputs": [
    {
     "ename": "MethodError",
     "evalue": "MethodError: no method matching vec(::SubString{String})\nClosest candidates are:\n  vec(!Matched::LinearAlgebra.Transpose{T,#s627} where #s627<:(AbstractArray{T,1} where T) where T) at /Users/julia/buildbot/worker/package_macos64/build/usr/share/julia/stdlib/v1.3/LinearAlgebra/src/adjtrans.jl:201\n  vec(!Matched::SparseArrays.AbstractSparseArray{Tv,Ti,1} where Ti where Tv) at /Users/julia/buildbot/worker/package_macos64/build/usr/share/julia/stdlib/v1.3/SparseArrays/src/sparsevector.jl:913\n  vec(!Matched::AbstractArray{T,1} where T) at abstractarraymath.jl:42\n  ...",
     "output_type": "error",
     "traceback": [
      "MethodError: no method matching vec(::SubString{String})\nClosest candidates are:\n  vec(!Matched::LinearAlgebra.Transpose{T,#s627} where #s627<:(AbstractArray{T,1} where T) where T) at /Users/julia/buildbot/worker/package_macos64/build/usr/share/julia/stdlib/v1.3/LinearAlgebra/src/adjtrans.jl:201\n  vec(!Matched::SparseArrays.AbstractSparseArray{Tv,Ti,1} where Ti where Tv) at /Users/julia/buildbot/worker/package_macos64/build/usr/share/julia/stdlib/v1.3/SparseArrays/src/sparsevector.jl:913\n  vec(!Matched::AbstractArray{T,1} where T) at abstractarraymath.jl:42\n  ...",
      "",
      "Stacktrace:",
      " [1] iterate at ./generator.jl:47 [inlined]",
      " [2] collect(::Base.Generator{Array{SubString{String},1},typeof(vec)}) at ./array.jl:622",
      " [3] top-level scope at In[1]:1"
     ]
    }
   ],
   "source": []
  },
  {
   "cell_type": "code",
   "execution_count": null,
   "metadata": {},
   "outputs": [],
   "source": []
  }
 ],
 "metadata": {
  "kernelspec": {
   "display_name": "Julia 1.3.1",
   "language": "julia",
   "name": "julia-1.3"
  },
  "language_info": {
   "file_extension": ".jl",
   "mimetype": "application/julia",
   "name": "julia",
   "version": "1.3.1"
  }
 },
 "nbformat": 4,
 "nbformat_minor": 2
}
