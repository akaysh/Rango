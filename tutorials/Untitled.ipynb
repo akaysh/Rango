{
 "cells": [
  {
   "cell_type": "code",
   "execution_count": 3,
   "metadata": {},
   "outputs": [],
   "source": [
    "using Distances, Statistics\n",
    "using MultivariateStats\n",
    "using PyPlot\n",
    "using WordTokenizers\n",
    "using TextAnalysis\n",
    "using DelimitedFiles\n",
    "using Embeddings\n",
    "using DataFrames\n",
    "using CSV"
   ]
  },
  {
   "cell_type": "code",
   "execution_count": 4,
   "metadata": {},
   "outputs": [
    {
     "data": {
      "text/html": [
       "<table class=\"data-frame\"><thead><tr><th></th><th>Top Crashes</th><th>Crash Count</th><th>Error</th></tr><tr><th></th><th>Int64</th><th>Int64</th><th>String⍰</th></tr></thead><tbody><p>7,052 rows × 4 columns (omitted printing of 1 columns)</p><tr><th>1</th><td>20917683101</td><td>23465</td><td>Exception has been thrown by the target of an invocation.</td></tr><tr><th>2</th><td>18490782808</td><td>16577</td><td>Container Save Exception</td></tr><tr><th>3</th><td>21446158798</td><td>5290</td><td>Attempted to read or write protected memory. This is often an indication that other memory is corrupt.</td></tr><tr><th>4</th><td>21302206595</td><td>3613</td><td>Attempted to read or write protected memory. This is often an indication that other memory is corrupt.</td></tr><tr><th>5</th><td>20253196742</td><td>2818</td><td>Could not initialize class com.intuit.cg.fs.fps.api.Region</td></tr><tr><th>6</th><td>20227402431</td><td>2288</td><td>External component has thrown an exception.</td></tr><tr><th>7</th><td>19245349646</td><td>2055</td><td>Attempted to read or write protected memory. This is often an indication that other memory is corrupt.</td></tr><tr><th>8</th><td>20570994344</td><td>1910</td><td>Native components of SQL Server Compact engine are not loaded. Please reinstall Microsoft SQL Server Compact.</td></tr><tr><th>9</th><td>20203474017</td><td>1842</td><td>Attempted to read or write protected memory. This is often an indication that other memory is corrupt.</td></tr><tr><th>10</th><td>17262612009</td><td>1814</td><td>Exception from PER layer while trying to save tax container</td></tr><tr><th>11</th><td>18032763738</td><td>1580</td><td>Attempted to read or write protected memory. This is often an indication that other memory is corrupt.</td></tr><tr><th>12</th><td>20620285936</td><td>1414</td><td>Exception has been thrown by the target of an invocation.</td></tr><tr><th>13</th><td>17277546238</td><td>1304</td><td>Exception has been thrown by the target of an invocation.</td></tr><tr><th>14</th><td>17986858789</td><td>1249</td><td>The Application object is being shut down.</td></tr><tr><th>15</th><td>18041361797</td><td>1235</td><td>Exception has been thrown by the target of an invocation.</td></tr><tr><th>16</th><td>21392239655</td><td>1199</td><td>Exception from PER layer while trying to open tax container</td></tr><tr><th>17</th><td>19468025170</td><td>1187</td><td>Container Save IO Exception</td></tr><tr><th>18</th><td>18361145818</td><td>1083</td><td>Container Save IO Exception</td></tr><tr><th>19</th><td>21194828929</td><td>969</td><td>undefined</td></tr><tr><th>20</th><td>20114944830</td><td>958</td><td>Attempted to read or write protected memory. This is often an indication that other memory is corrupt.</td></tr><tr><th>21</th><td>19933045246</td><td>942</td><td>Document is empty</td></tr><tr><th>22</th><td>20176760734</td><td>906</td><td>missing</td></tr><tr><th>23</th><td>19798278108</td><td>864</td><td>Exception of type 'System.OutOfMemoryException' was thrown.</td></tr><tr><th>24</th><td>19576459687</td><td>851</td><td>The specified key is not a valid size for this algorithm.</td></tr><tr><th>25</th><td>20520696176</td><td>826</td><td>Container Save IO Exception</td></tr><tr><th>26</th><td>20667943168</td><td>784</td><td>Exception has been thrown by the target of an invocation.</td></tr><tr><th>27</th><td>17420910592</td><td>777</td><td>Exception has been thrown by the target of an invocation.</td></tr><tr><th>28</th><td>17745886119</td><td>755</td><td>Exception has been thrown by the target of an invocation.</td></tr><tr><th>29</th><td>17530374281</td><td>745</td><td>Attempted to read or write protected memory. This is often an indication that other memory is corrupt.</td></tr><tr><th>30</th><td>19122061922</td><td>733</td><td>Attempted to read or write protected memory. This is often an indication that other memory is corrupt.</td></tr><tr><th>&vellip;</th><td>&vellip;</td><td>&vellip;</td><td>&vellip;</td></tr></tbody></table>"
      ],
      "text/latex": [
       "\\begin{tabular}{r|cccc}\n",
       "\t& Top Crashes & Crash Count & Error & \\\\\n",
       "\t\\hline\n",
       "\t& Int64 & Int64 & String⍰ & \\\\\n",
       "\t\\hline\n",
       "\t1 & 20917683101 & 23465 & Exception has been thrown by the target of an invocation. & $\\dots$ \\\\\n",
       "\t2 & 18490782808 & 16577 & Container Save Exception & $\\dots$ \\\\\n",
       "\t3 & 21446158798 & 5290 & Attempted to read or write protected memory. This is often an indication that other memory is corrupt. & $\\dots$ \\\\\n",
       "\t4 & 21302206595 & 3613 & Attempted to read or write protected memory. This is often an indication that other memory is corrupt. & $\\dots$ \\\\\n",
       "\t5 & 20253196742 & 2818 & Could not initialize class com.intuit.cg.fs.fps.api.Region & $\\dots$ \\\\\n",
       "\t6 & 20227402431 & 2288 & External component has thrown an exception. & $\\dots$ \\\\\n",
       "\t7 & 19245349646 & 2055 & Attempted to read or write protected memory. This is often an indication that other memory is corrupt. & $\\dots$ \\\\\n",
       "\t8 & 20570994344 & 1910 & Native components of SQL Server Compact engine are not loaded. Please reinstall Microsoft SQL Server Compact. & $\\dots$ \\\\\n",
       "\t9 & 20203474017 & 1842 & Attempted to read or write protected memory. This is often an indication that other memory is corrupt. & $\\dots$ \\\\\n",
       "\t10 & 17262612009 & 1814 & Exception from PER layer while trying to save tax container & $\\dots$ \\\\\n",
       "\t11 & 18032763738 & 1580 & Attempted to read or write protected memory. This is often an indication that other memory is corrupt. & $\\dots$ \\\\\n",
       "\t12 & 20620285936 & 1414 & Exception has been thrown by the target of an invocation. & $\\dots$ \\\\\n",
       "\t13 & 17277546238 & 1304 & Exception has been thrown by the target of an invocation. & $\\dots$ \\\\\n",
       "\t14 & 17986858789 & 1249 & The Application object is being shut down. & $\\dots$ \\\\\n",
       "\t15 & 18041361797 & 1235 & Exception has been thrown by the target of an invocation. & $\\dots$ \\\\\n",
       "\t16 & 21392239655 & 1199 & Exception from PER layer while trying to open tax container & $\\dots$ \\\\\n",
       "\t17 & 19468025170 & 1187 & Container Save IO Exception & $\\dots$ \\\\\n",
       "\t18 & 18361145818 & 1083 & Container Save IO Exception & $\\dots$ \\\\\n",
       "\t19 & 21194828929 & 969 & undefined & $\\dots$ \\\\\n",
       "\t20 & 20114944830 & 958 & Attempted to read or write protected memory. This is often an indication that other memory is corrupt. & $\\dots$ \\\\\n",
       "\t21 & 19933045246 & 942 & Document is empty & $\\dots$ \\\\\n",
       "\t22 & 20176760734 & 906 &  & $\\dots$ \\\\\n",
       "\t23 & 19798278108 & 864 & Exception of type 'System.OutOfMemoryException' was thrown. & $\\dots$ \\\\\n",
       "\t24 & 19576459687 & 851 & The specified key is not a valid size for this algorithm. & $\\dots$ \\\\\n",
       "\t25 & 20520696176 & 826 & Container Save IO Exception & $\\dots$ \\\\\n",
       "\t26 & 20667943168 & 784 & Exception has been thrown by the target of an invocation. & $\\dots$ \\\\\n",
       "\t27 & 17420910592 & 777 & Exception has been thrown by the target of an invocation. & $\\dots$ \\\\\n",
       "\t28 & 17745886119 & 755 & Exception has been thrown by the target of an invocation. & $\\dots$ \\\\\n",
       "\t29 & 17530374281 & 745 & Attempted to read or write protected memory. This is often an indication that other memory is corrupt. & $\\dots$ \\\\\n",
       "\t30 & 19122061922 & 733 & Attempted to read or write protected memory. This is often an indication that other memory is corrupt. & $\\dots$ \\\\\n",
       "\t$\\dots$ & $\\dots$ & $\\dots$ & $\\dots$ &  \\\\\n",
       "\\end{tabular}\n"
      ],
      "text/plain": [
       "7052×4 DataFrame. Omitted printing of 2 columns\n",
       "│ Row  │ Top Crashes │ Crash Count │\n",
       "│      │ \u001b[90mInt64\u001b[39m       │ \u001b[90mInt64\u001b[39m       │\n",
       "├──────┼─────────────┼─────────────┤\n",
       "│ 1    │ 20917683101 │ 23465       │\n",
       "│ 2    │ 18490782808 │ 16577       │\n",
       "│ 3    │ 21446158798 │ 5290        │\n",
       "│ 4    │ 21302206595 │ 3613        │\n",
       "│ 5    │ 20253196742 │ 2818        │\n",
       "│ 6    │ 20227402431 │ 2288        │\n",
       "│ 7    │ 19245349646 │ 2055        │\n",
       "│ 8    │ 20570994344 │ 1910        │\n",
       "│ 9    │ 20203474017 │ 1842        │\n",
       "│ 10   │ 17262612009 │ 1814        │\n",
       "⋮\n",
       "│ 7042 │ 21466487310 │ 1           │\n",
       "│ 7043 │ 21466599214 │ 1           │\n",
       "│ 7044 │ 21467007965 │ 1           │\n",
       "│ 7045 │ 21467673544 │ 1           │\n",
       "│ 7046 │ 21468235360 │ 1           │\n",
       "│ 7047 │ 21469401601 │ 1           │\n",
       "│ 7048 │ 21469503155 │ 1           │\n",
       "│ 7049 │ 21469514721 │ 1           │\n",
       "│ 7050 │ 21470156086 │ 1           │\n",
       "│ 7051 │ 21470178019 │ 1           │\n",
       "│ 7052 │ 21473889038 │ 1           │"
      ]
     },
     "execution_count": 4,
     "metadata": {},
     "output_type": "execute_result"
    }
   ],
   "source": [
    "crashes = CSV.read(\"/Users/asharma19/Downloads/CrashTable.csv\")"
   ]
  },
  {
   "cell_type": "code",
   "execution_count": 5,
   "metadata": {},
   "outputs": [
    {
     "data": {
      "text/plain": [
       "7052-element Array{Union{Missing, String},1}:\n",
       " \"Exception has been thrown by the target of an invocation.\"                                                                          \n",
       " \"Container Save Exception\"                                                                                                           \n",
       " \"Attempted to read or write protected memory. This is often an indication that other memory is corrupt.\"                             \n",
       " \"Attempted to read or write protected memory. This is often an indication that other memory is corrupt.\"                             \n",
       " \"Could not initialize class com.intuit.cg.fs.fps.api.Region\"                                                                         \n",
       " \"External component has thrown an exception.\"                                                                                        \n",
       " \"Attempted to read or write protected memory. This is often an indication that other memory is corrupt.\"                             \n",
       " \"Native components of SQL Server Compact engine are not loaded. Please reinstall Microsoft SQL Server Compact.\"                      \n",
       " \"Attempted to read or write protected memory. This is often an indication that other memory is corrupt.\"                             \n",
       " \"Exception from PER layer while trying to save tax container\"                                                                        \n",
       " \"Attempted to read or write protected memory. This is often an indication that other memory is corrupt.\"                             \n",
       " \"Exception has been thrown by the target of an invocation.\"                                                                          \n",
       " \"Exception has been thrown by the target of an invocation.\"                                                                          \n",
       " ⋮                                                                                                                                    \n",
       " \"The process cannot access the file 'C:\\\\Users\\\\Pam\\\\AppData\\\\Local\\\\Temp\\\\tmp8268.tmp' because it is being used by another process.\"\n",
       " \"Could not find file 'C:\\\\Users\\\\Owner\\\\Documents\\\\TurboTax_Temp01-20-2020T19.19.48.202.pdf'.\"                                       \n",
       " \"Not enough storage is available to process this command.\\r\\n\"                                                                       \n",
       " \"Could not find file 'C:\\\\Users\\\\Admin\\\\Documents\\\\TurboTax\\\\TurboTax_Temp04-05-2020T20.26.23.314.pdf'.\"                             \n",
       " \"Could not find file 'C:\\\\Users\\\\Red-Scot\\\\Documents\\\\TurboTax\\\\TurboTax_Temp02-13-2020T15.02.23.682.pdf'.\"                          \n",
       " \"Exception of type 'System.OutOfMemoryException' was thrown.\"                                                                        \n",
       " \"External component has thrown an exception.\"                                                                                        \n",
       " \"Exception of type 'System.OutOfMemoryException' was thrown.\"                                                                        \n",
       " \"Could not find file 'C:\\\\Users\\\\JKerr\\\\Documents\\\\TurboTax\\\\TurboTax_Temp03-16-2020T14.35.46.655.pdf'.\"                             \n",
       " \"Could not find file 'C:\\\\Users\\\\STARC\\\\Documents\\\\TurboTax_Temp03-15-2020T16.12.04.021.pdf'.\"                                       \n",
       " \"Access to the path 'C:\\\\Users\\\\johnh\\\\AppData\\\\Local\\\\Temp\\\\WPF\\\\1rfnioqt.0ie' is denied.\"                                          \n",
       " \"Could not find file 'C:\\\\Users\\\\Diana Clark\\\\Documents\\\\TurboTax\\\\TurboTax_Temp07-13-2020T14.33.04.846.pdf'.\"                       "
      ]
     },
     "execution_count": 5,
     "metadata": {},
     "output_type": "execute_result"
    }
   ],
   "source": [
    "crashes.Error = recode(crashes.Error,\"undefined\"=>missing)"
   ]
  },
  {
   "cell_type": "code",
   "execution_count": 6,
   "metadata": {},
   "outputs": [
    {
     "data": {
      "text/html": [
       "<table class=\"data-frame\"><thead><tr><th></th><th>Top Crashes</th><th>Crash Count</th><th>Error</th></tr><tr><th></th><th>Int64</th><th>Int64</th><th>String</th></tr></thead><tbody><p>6,764 rows × 4 columns (omitted printing of 1 columns)</p><tr><th>1</th><td>20917683101</td><td>23465</td><td>Exception has been thrown by the target of an invocation.</td></tr><tr><th>2</th><td>18490782808</td><td>16577</td><td>Container Save Exception</td></tr><tr><th>3</th><td>21446158798</td><td>5290</td><td>Attempted to read or write protected memory. This is often an indication that other memory is corrupt.</td></tr><tr><th>4</th><td>21302206595</td><td>3613</td><td>Attempted to read or write protected memory. This is often an indication that other memory is corrupt.</td></tr><tr><th>5</th><td>20253196742</td><td>2818</td><td>Could not initialize class com.intuit.cg.fs.fps.api.Region</td></tr><tr><th>6</th><td>20227402431</td><td>2288</td><td>External component has thrown an exception.</td></tr><tr><th>7</th><td>19245349646</td><td>2055</td><td>Attempted to read or write protected memory. This is often an indication that other memory is corrupt.</td></tr><tr><th>8</th><td>20570994344</td><td>1910</td><td>Native components of SQL Server Compact engine are not loaded. Please reinstall Microsoft SQL Server Compact.</td></tr><tr><th>9</th><td>20203474017</td><td>1842</td><td>Attempted to read or write protected memory. This is often an indication that other memory is corrupt.</td></tr><tr><th>10</th><td>17262612009</td><td>1814</td><td>Exception from PER layer while trying to save tax container</td></tr><tr><th>11</th><td>18032763738</td><td>1580</td><td>Attempted to read or write protected memory. This is often an indication that other memory is corrupt.</td></tr><tr><th>12</th><td>20620285936</td><td>1414</td><td>Exception has been thrown by the target of an invocation.</td></tr><tr><th>13</th><td>17277546238</td><td>1304</td><td>Exception has been thrown by the target of an invocation.</td></tr><tr><th>14</th><td>17986858789</td><td>1249</td><td>The Application object is being shut down.</td></tr><tr><th>15</th><td>18041361797</td><td>1235</td><td>Exception has been thrown by the target of an invocation.</td></tr><tr><th>16</th><td>21392239655</td><td>1199</td><td>Exception from PER layer while trying to open tax container</td></tr><tr><th>17</th><td>19468025170</td><td>1187</td><td>Container Save IO Exception</td></tr><tr><th>18</th><td>18361145818</td><td>1083</td><td>Container Save IO Exception</td></tr><tr><th>19</th><td>20114944830</td><td>958</td><td>Attempted to read or write protected memory. This is often an indication that other memory is corrupt.</td></tr><tr><th>20</th><td>19933045246</td><td>942</td><td>Document is empty</td></tr><tr><th>21</th><td>19798278108</td><td>864</td><td>Exception of type 'System.OutOfMemoryException' was thrown.</td></tr><tr><th>22</th><td>19576459687</td><td>851</td><td>The specified key is not a valid size for this algorithm.</td></tr><tr><th>23</th><td>20520696176</td><td>826</td><td>Container Save IO Exception</td></tr><tr><th>24</th><td>20667943168</td><td>784</td><td>Exception has been thrown by the target of an invocation.</td></tr><tr><th>25</th><td>17420910592</td><td>777</td><td>Exception has been thrown by the target of an invocation.</td></tr><tr><th>26</th><td>17745886119</td><td>755</td><td>Exception has been thrown by the target of an invocation.</td></tr><tr><th>27</th><td>17530374281</td><td>745</td><td>Attempted to read or write protected memory. This is often an indication that other memory is corrupt.</td></tr><tr><th>28</th><td>19122061922</td><td>733</td><td>Attempted to read or write protected memory. This is often an indication that other memory is corrupt.</td></tr><tr><th>29</th><td>17662805892</td><td>726</td><td>Attempted to read or write protected memory. This is often an indication that other memory is corrupt.</td></tr><tr><th>30</th><td>19195047164</td><td>708</td><td>Container Save IO Exception</td></tr><tr><th>&vellip;</th><td>&vellip;</td><td>&vellip;</td><td>&vellip;</td></tr></tbody></table>"
      ],
      "text/latex": [
       "\\begin{tabular}{r|cccc}\n",
       "\t& Top Crashes & Crash Count & Error & \\\\\n",
       "\t\\hline\n",
       "\t& Int64 & Int64 & String & \\\\\n",
       "\t\\hline\n",
       "\t1 & 20917683101 & 23465 & Exception has been thrown by the target of an invocation. & $\\dots$ \\\\\n",
       "\t2 & 18490782808 & 16577 & Container Save Exception & $\\dots$ \\\\\n",
       "\t3 & 21446158798 & 5290 & Attempted to read or write protected memory. This is often an indication that other memory is corrupt. & $\\dots$ \\\\\n",
       "\t4 & 21302206595 & 3613 & Attempted to read or write protected memory. This is often an indication that other memory is corrupt. & $\\dots$ \\\\\n",
       "\t5 & 20253196742 & 2818 & Could not initialize class com.intuit.cg.fs.fps.api.Region & $\\dots$ \\\\\n",
       "\t6 & 20227402431 & 2288 & External component has thrown an exception. & $\\dots$ \\\\\n",
       "\t7 & 19245349646 & 2055 & Attempted to read or write protected memory. This is often an indication that other memory is corrupt. & $\\dots$ \\\\\n",
       "\t8 & 20570994344 & 1910 & Native components of SQL Server Compact engine are not loaded. Please reinstall Microsoft SQL Server Compact. & $\\dots$ \\\\\n",
       "\t9 & 20203474017 & 1842 & Attempted to read or write protected memory. This is often an indication that other memory is corrupt. & $\\dots$ \\\\\n",
       "\t10 & 17262612009 & 1814 & Exception from PER layer while trying to save tax container & $\\dots$ \\\\\n",
       "\t11 & 18032763738 & 1580 & Attempted to read or write protected memory. This is often an indication that other memory is corrupt. & $\\dots$ \\\\\n",
       "\t12 & 20620285936 & 1414 & Exception has been thrown by the target of an invocation. & $\\dots$ \\\\\n",
       "\t13 & 17277546238 & 1304 & Exception has been thrown by the target of an invocation. & $\\dots$ \\\\\n",
       "\t14 & 17986858789 & 1249 & The Application object is being shut down. & $\\dots$ \\\\\n",
       "\t15 & 18041361797 & 1235 & Exception has been thrown by the target of an invocation. & $\\dots$ \\\\\n",
       "\t16 & 21392239655 & 1199 & Exception from PER layer while trying to open tax container & $\\dots$ \\\\\n",
       "\t17 & 19468025170 & 1187 & Container Save IO Exception & $\\dots$ \\\\\n",
       "\t18 & 18361145818 & 1083 & Container Save IO Exception & $\\dots$ \\\\\n",
       "\t19 & 20114944830 & 958 & Attempted to read or write protected memory. This is often an indication that other memory is corrupt. & $\\dots$ \\\\\n",
       "\t20 & 19933045246 & 942 & Document is empty & $\\dots$ \\\\\n",
       "\t21 & 19798278108 & 864 & Exception of type 'System.OutOfMemoryException' was thrown. & $\\dots$ \\\\\n",
       "\t22 & 19576459687 & 851 & The specified key is not a valid size for this algorithm. & $\\dots$ \\\\\n",
       "\t23 & 20520696176 & 826 & Container Save IO Exception & $\\dots$ \\\\\n",
       "\t24 & 20667943168 & 784 & Exception has been thrown by the target of an invocation. & $\\dots$ \\\\\n",
       "\t25 & 17420910592 & 777 & Exception has been thrown by the target of an invocation. & $\\dots$ \\\\\n",
       "\t26 & 17745886119 & 755 & Exception has been thrown by the target of an invocation. & $\\dots$ \\\\\n",
       "\t27 & 17530374281 & 745 & Attempted to read or write protected memory. This is often an indication that other memory is corrupt. & $\\dots$ \\\\\n",
       "\t28 & 19122061922 & 733 & Attempted to read or write protected memory. This is often an indication that other memory is corrupt. & $\\dots$ \\\\\n",
       "\t29 & 17662805892 & 726 & Attempted to read or write protected memory. This is often an indication that other memory is corrupt. & $\\dots$ \\\\\n",
       "\t30 & 19195047164 & 708 & Container Save IO Exception & $\\dots$ \\\\\n",
       "\t$\\dots$ & $\\dots$ & $\\dots$ & $\\dots$ &  \\\\\n",
       "\\end{tabular}\n"
      ],
      "text/plain": [
       "6764×4 DataFrame. Omitted printing of 2 columns\n",
       "│ Row  │ Top Crashes │ Crash Count │\n",
       "│      │ \u001b[90mInt64\u001b[39m       │ \u001b[90mInt64\u001b[39m       │\n",
       "├──────┼─────────────┼─────────────┤\n",
       "│ 1    │ 20917683101 │ 23465       │\n",
       "│ 2    │ 18490782808 │ 16577       │\n",
       "│ 3    │ 21446158798 │ 5290        │\n",
       "│ 4    │ 21302206595 │ 3613        │\n",
       "│ 5    │ 20253196742 │ 2818        │\n",
       "│ 6    │ 20227402431 │ 2288        │\n",
       "│ 7    │ 19245349646 │ 2055        │\n",
       "│ 8    │ 20570994344 │ 1910        │\n",
       "│ 9    │ 20203474017 │ 1842        │\n",
       "│ 10   │ 17262612009 │ 1814        │\n",
       "⋮\n",
       "│ 6754 │ 21466487310 │ 1           │\n",
       "│ 6755 │ 21466599214 │ 1           │\n",
       "│ 6756 │ 21467007965 │ 1           │\n",
       "│ 6757 │ 21467673544 │ 1           │\n",
       "│ 6758 │ 21468235360 │ 1           │\n",
       "│ 6759 │ 21469401601 │ 1           │\n",
       "│ 6760 │ 21469503155 │ 1           │\n",
       "│ 6761 │ 21469514721 │ 1           │\n",
       "│ 6762 │ 21470156086 │ 1           │\n",
       "│ 6763 │ 21470178019 │ 1           │\n",
       "│ 6764 │ 21473889038 │ 1           │"
      ]
     },
     "execution_count": 6,
     "metadata": {},
     "output_type": "execute_result"
    }
   ],
   "source": [
    "crashes = dropmissing(crashes, :Error)"
   ]
  },
  {
   "cell_type": "code",
   "execution_count": 7,
   "metadata": {},
   "outputs": [
    {
     "data": {
      "text/plain": [
       "6764-element Array{String,1}:\n",
       " \"Exception has been thrown by the target of an invocation.\"                                                                          \n",
       " \"Container Save Exception\"                                                                                                           \n",
       " \"Attempted to read or write protected memory. This is often an indication that other memory is corrupt.\"                             \n",
       " \"Attempted to read or write protected memory. This is often an indication that other memory is corrupt.\"                             \n",
       " \"Could not initialize class com.intuit.cg.fs.fps.api.Region\"                                                                         \n",
       " \"External component has thrown an exception.\"                                                                                        \n",
       " \"Attempted to read or write protected memory. This is often an indication that other memory is corrupt.\"                             \n",
       " \"Native components of SQL Server Compact engine are not loaded. Please reinstall Microsoft SQL Server Compact.\"                      \n",
       " \"Attempted to read or write protected memory. This is often an indication that other memory is corrupt.\"                             \n",
       " \"Exception from PER layer while trying to save tax container\"                                                                        \n",
       " \"Attempted to read or write protected memory. This is often an indication that other memory is corrupt.\"                             \n",
       " \"Exception has been thrown by the target of an invocation.\"                                                                          \n",
       " \"Exception has been thrown by the target of an invocation.\"                                                                          \n",
       " ⋮                                                                                                                                    \n",
       " \"The process cannot access the file 'C:\\\\Users\\\\Pam\\\\AppData\\\\Local\\\\Temp\\\\tmp8268.tmp' because it is being used by another process.\"\n",
       " \"Could not find file 'C:\\\\Users\\\\Owner\\\\Documents\\\\TurboTax_Temp01-20-2020T19.19.48.202.pdf'.\"                                       \n",
       " \"Not enough storage is available to process this command.\\r\\n\"                                                                       \n",
       " \"Could not find file 'C:\\\\Users\\\\Admin\\\\Documents\\\\TurboTax\\\\TurboTax_Temp04-05-2020T20.26.23.314.pdf'.\"                             \n",
       " \"Could not find file 'C:\\\\Users\\\\Red-Scot\\\\Documents\\\\TurboTax\\\\TurboTax_Temp02-13-2020T15.02.23.682.pdf'.\"                          \n",
       " \"Exception of type 'System.OutOfMemoryException' was thrown.\"                                                                        \n",
       " \"External component has thrown an exception.\"                                                                                        \n",
       " \"Exception of type 'System.OutOfMemoryException' was thrown.\"                                                                        \n",
       " \"Could not find file 'C:\\\\Users\\\\JKerr\\\\Documents\\\\TurboTax\\\\TurboTax_Temp03-16-2020T14.35.46.655.pdf'.\"                             \n",
       " \"Could not find file 'C:\\\\Users\\\\STARC\\\\Documents\\\\TurboTax_Temp03-15-2020T16.12.04.021.pdf'.\"                                       \n",
       " \"Access to the path 'C:\\\\Users\\\\johnh\\\\AppData\\\\Local\\\\Temp\\\\WPF\\\\1rfnioqt.0ie' is denied.\"                                          \n",
       " \"Could not find file 'C:\\\\Users\\\\Diana Clark\\\\Documents\\\\TurboTax\\\\TurboTax_Temp07-13-2020T14.33.04.846.pdf'.\"                       "
      ]
     },
     "execution_count": 7,
     "metadata": {},
     "output_type": "execute_result"
    }
   ],
   "source": [
    "crashes[!, :Error]"
   ]
  },
  {
   "cell_type": "code",
   "execution_count": 8,
   "metadata": {},
   "outputs": [
    {
     "data": {
      "text/plain": [
       "6764-element Array{String,1}:\n",
       " \"Exception has been thrown by the target of an invocation \"                                                              \n",
       " \"Container Save Exception\"                                                                                               \n",
       " \"Attempted to read or write protected memory  This is often an indication that other memory is corrupt \"                 \n",
       " \"Attempted to read or write protected memory  This is often an indication that other memory is corrupt \"                 \n",
       " \"Could not initialize class com intuit cg fs fps api Region\"                                                             \n",
       " \"External component has thrown an exception \"                                                                            \n",
       " \"Attempted to read or write protected memory  This is often an indication that other memory is corrupt \"                 \n",
       " \"Native components of SQL Server Compact engine are not loaded  Please reinstall Microsoft SQL Server Compact \"          \n",
       " \"Attempted to read or write protected memory  This is often an indication that other memory is corrupt \"                 \n",
       " \"Exception from PER layer while trying to save tax container\"                                                            \n",
       " \"Attempted to read or write protected memory  This is often an indication that other memory is corrupt \"                 \n",
       " \"Exception has been thrown by the target of an invocation \"                                                              \n",
       " \"Exception has been thrown by the target of an invocation \"                                                              \n",
       " ⋮                                                                                                                        \n",
       " \"The process cannot access the file C: Users Pam AppData Local Temp tmp tmp because it is being used by another process \"\n",
       " \"Could not find file C: Users Owner Documents TurboTax TempT    pdf \"                                                    \n",
       " \"Not enough storage is available to process this command   \"                                                             \n",
       " \"Could not find file C: Users Admin Documents TurboTax TurboTax TempT    pdf \"                                           \n",
       " \"Could not find file C: Users RedScot Documents TurboTax TurboTax TempT    pdf \"                                         \n",
       " \"Exception of type System OutOfMemoryException was thrown \"                                                              \n",
       " \"External component has thrown an exception \"                                                                            \n",
       " \"Exception of type System OutOfMemoryException was thrown \"                                                              \n",
       " \"Could not find file C: Users JKerr Documents TurboTax TurboTax TempT    pdf \"                                           \n",
       " \"Could not find file C: Users STARC Documents TurboTax TempT    pdf \"                                                    \n",
       " \"Access to the path C: Users johnh AppData Local Temp WPF rfnioqt ie is denied \"                                         \n",
       " \"Could not find file C: Users Diana Clark Documents TurboTax TurboTax TempT    pdf \"                                     "
      ]
     },
     "execution_count": 8,
     "metadata": {},
     "output_type": "execute_result"
    }
   ],
   "source": [
    "crashes[!, :Error] = replace.(crashes[!, :Error], r\"\\\\|\\n|\\r|_|,|—|\\.\" => \" \")\n",
    "crashes[!, :Error] = replace.(crashes[!, :Error], r\"[\\\"*();!`\\'0-9-]\" => \"\")"
   ]
  },
  {
   "cell_type": "code",
   "execution_count": null,
   "metadata": {},
   "outputs": [],
   "source": []
  },
  {
   "cell_type": "code",
   "execution_count": 12,
   "metadata": {},
   "outputs": [
    {
     "name": "stdout",
     "output_type": "stream",
     "text": [
      "Loaded embeddings, each word is represented by a vector with 50 features. The vocab size is 400000\n"
     ]
    },
    {
     "name": "stderr",
     "output_type": "stream",
     "text": [
      "WARNING: redefining constant embtable\n",
      "WARNING: redefining constant get_word_index\n"
     ]
    },
    {
     "ename": "LoadError",
     "evalue": "syntax: cannot juxtapose string literal",
     "output_type": "error",
     "traceback": [
      "syntax: cannot juxtapose string literal",
      ""
     ]
    }
   ],
   "source": [
    "const embtable = load_embeddings(GloVe{:en},1) # or load_embeddings(FastText_Text) or ...\n",
    "#Function to return the index of the word in the embedding (returns 0 if the word is not found)\n",
    "const get_word_index = Dict(word=>ii for (ii,word) in enumerate(embtable.vocab))\n",
    "embeddings = embtable.embeddings\n",
    "vocab = embtable.vocab\n",
    "vec_size, vocab_size = size(embeddings)\n",
    "println(\"Loaded embeddings, each word is represented by a vector with $vec_size features. The vocab size is $vocab_size\")\n",
    "vec_idx(s) = findfirst(x -> x == s, vocab)\n",
    "function vec(s)\n",
    "    if vec_idx(s)!= nothing\n",
    "        embeddings[:, vec_idx(s)]\n",
    "    end\n",
    "end\n",
    "# To compare the similarity of document vectors\n",
    "cosine(x,y) = 1 - cosine_dist(x, y)\n",
    "function closest(v, n=20)\n",
    "    list = [(x,cosine(embeddings'[x,:], v)) for x in 1:size(embeddings)[2]]\n",
    "    topn_idx = sort(list, by = x -> x[2], rev = true)[1:n]\n",
    "    return [vocab[a] for (a,_) in topn_idx]\n",
    "end\n",
    "# Function to get a mean sentence vector\n",
    "function sentvec(s)\n",
    "    local arr = []\n",
    "    for w in split(sentences[s])\n",
    "        if vec(w) != nothing\n",
    "            push!(arr, vec(w))\n",
    "        end\n",
    "    end\n",
    "    if length(arr) == 0\n",
    "        ones(Float32, (50,1))*999\n",
    "    else\n",
    "        mean(arr)\n",
    "    end\n",
    "end\n",
    "function closest_sent(input_str, n=100)\n",
    "    mean_vec_input = mean([vec(w) for w in split(input_str)])\n",
    "    list = [(x,cosine(mean_vec_input, sentvec(x))) for x in 1:length(sentences)]\n",
    "    topn_idx=sort(list, by = x -> x[2], rev = true)[1:n]\n",
    "    return [sentences[a] for (a,_) in topn_idx]\n",
    "end\n",
    "function match_docs(; kws...)\n",
    "    args = Args(; kws...)\n",
    "    txt = open(args.path) do file\n",
    "        read(file, String)\n",
    "    end\n",
    "    println(\"Loaded $(args.path), length=$(length(txt)) characters\")\n",
    "    txt = replace(txt, r\"\\n|\\r|_|,|—\" => \" \")\n",
    "    txt = replace(txt, r\"[\\\"\"\"*();!]\" => \"\")\n",
    "    sd = StringDocument(txt)\n",
    "    prepare!(sd, strip_whitespace)\n",
    "    global sentences = split_sentences(sd.text)\n",
    "    i = 1\n",
    "    for s in 1:length(sentences)\n",
    "        if length(split(sentences[s]))>3\n",
    "            sentences[i]=lowercase(replace(sentences[s], \".\"=>\"\"))\n",
    "            i += 1\n",
    "        end\n",
    "    end\n",
    "    save_vector(sentences)\n",
    "    return closest_sent(args.string)\n",
    "end\n",
    "function save_vector(sentences)\n",
    "    i = length(sentences) + 1\n",
    "    sent_vecs = []\n",
    "    for s in 1:length(sentences)\n",
    "        i == 1 ? sent_vecs=sentvec(s) : push!(sent_vecs,sentvec(s))\n",
    "    end\n",
    "    writedlm( \"data/sent_vec.csv\",  sent_vecs, ',')\n",
    "    writedlm( \"data/sentences.csv\",  sentences, ',')\n",
    "end\n",
    "function closest_sent_pretrained(pretrained_arr, input_str, n=20)\n",
    "    mean_vec_input = mean([vec(w) for w in split(input_str)])\n",
    "    list = [(x,cosine(mean_vec_input, pretrained_arr[x,:])) for x in 1:length(sentences)]\n",
    "    topn_idx = sort(list, by = x -> x[2], rev=true)[1:n]\n",
    "    return [sentences[a] for (a,_) in topn_idx]\n",
    "end\n",
    "function load_and_match(sentences_path, sent_vecs_path, string)\n",
    "    sentences = readdlm(\"sentences.csv\", '!', String, header=false)\n",
    "    sent_vecs = readdlm(\"sent_vec.csv\", ',', Float32, header=false)\n",
    "    return closest_sent_pretrained(sent_vecs, string)\n",
    "end\n"
   ]
  },
  {
   "cell_type": "code",
   "execution_count": 13,
   "metadata": {},
   "outputs": [
    {
     "data": {
      "text/plain": [
       "50-element Array{Float32,1}:\n",
       "  0.39382502 \n",
       " -0.027129117\n",
       "  0.43173927 \n",
       " -0.15439376 \n",
       "  0.25947985 \n",
       "  0.20323718 \n",
       " -0.32047498 \n",
       " -0.0861025  \n",
       "  0.17393562 \n",
       " -0.03249225 \n",
       " -0.012721248\n",
       "  0.18091875 \n",
       "  0.050838   \n",
       "  ⋮          \n",
       "  0.45049262 \n",
       " -0.25194627 \n",
       "  0.038054377\n",
       "  0.028798006\n",
       "  0.4671725  \n",
       "  0.10219687 \n",
       " -0.2408925  \n",
       "  0.011267881\n",
       " -0.05143312 \n",
       " -0.20767753 \n",
       "  0.23728438 \n",
       " -0.30543002 "
      ]
     },
     "execution_count": 13,
     "metadata": {},
     "output_type": "execute_result"
    }
   ],
   "source": [
    "sentences = crashes[!, :Error]\n",
    "sentvec(10)"
   ]
  },
  {
   "cell_type": "code",
   "execution_count": 50,
   "metadata": {},
   "outputs": [
    {
     "data": {
      "text/plain": [
       "\"at IntuitTaxInterop PrintInterop GetPrintListPrintSelections selection  List1 formsetIds    at Intuit Ctg Wte Service Printer ViewModel PrintTree ToggleTree UpdateTree\""
      ]
     },
     "execution_count": 50,
     "metadata": {},
     "output_type": "execute_result"
    }
   ],
   "source": [
    "str_match = \"at IntuitTaxInterop.PrintInterop.GetPrintList(PrintSelections selection, List`1 formsetIds)\n",
    "   at Intuit.Ctg.Wte.Service.Printer.ViewModel.PrintTree.ToggleTree.UpdateTree()\"\n",
    "str_match = replace(str_match, r\"\\n|\\r|_|,|—|\\.\" => \" \")\n",
    "str_match = replace(str_match, r\"[\\\"*();!`]\" => \"\")"
   ]
  },
  {
   "cell_type": "code",
   "execution_count": 14,
   "metadata": {},
   "outputs": [
    {
     "data": {
      "text/plain": [
       "100-element Array{String,1}:\n",
       " \"The request failed due to a fatal device hardware error   \"                                                                                                               \n",
       " \"disk I/O error\"                                                                                                                                                           \n",
       " \"Could not find file C: data cloud Dropbox Personal personal   us   matt windows Documents TurboTax TurboTax TempT    pdf \"                                                \n",
       " \"Could not find file C: Users awais OneDrive Documents TurboTax TurboTax TempT    pdf \"                                                                                    \n",
       " \"Could not find file C: Users awais OneDrive Documents TurboTax TurboTax TempT    pdf \"                                                                                    \n",
       " \"Could not find file C: Users awais OneDrive Documents TurboTax TurboTax TempT    pdf \"                                                                                    \n",
       " \"The device is not connected   \"                                                                                                                                           \n",
       " \"Form Set Template List is empty after form file scan ServiceName=TaxDataModel ServiceOperation=CreateRuntime ImplementationClass=ManagedFacade TpsTaxDataModelServiceImpl\"\n",
       " \"Form Set Template List is empty after form file scan ServiceName=TaxDataModel ServiceOperation=CreateRuntime ImplementationClass=ManagedFacade TpsTaxDataModelServiceImpl\"\n",
       " \"The cloud file provider exited unexpectedly  Exception from HRESULT: x\"                                                                                                   \n",
       " \"Could not find file C: Users ge Documents TurboTax TurboTax TempT    pdf \"                                                                                                \n",
       " \"Could not find file C: Users system Documents TurboTax TurboTax TempT    pdf \"                                                                                            \n",
       " \"Could not find file C: Users system Documents TurboTax TurboTax TempT    pdf \"                                                                                            \n",
       " ⋮                                                                                                                                                                          \n",
       " \"The process cannot access the file C: Users user AppData Local Temp tmpFC tmp because it is being used by another process \"                                               \n",
       " \"Catastrophic failure Exception from HRESULT: xFFFF E UNEXPECTED\"                                                                                                          \n",
       " \"Catastrophic failure Exception from HRESULT: xFFFF E UNEXPECTED\"                                                                                                          \n",
       " \"Attempted to read or write protected memory  This is often an indication that other memory is corrupt \"                                                                   \n",
       " \"Attempted to read or write protected memory  This is often an indication that other memory is corrupt \"                                                                   \n",
       " \"Attempted to read or write protected memory  This is often an indication that other memory is corrupt \"                                                                   \n",
       " \"Attempted to read or write protected memory  This is often an indication that other memory is corrupt \"                                                                   \n",
       " \"Attempted to read or write protected memory  This is often an indication that other memory is corrupt \"                                                                   \n",
       " \"Attempted to read or write protected memory  This is often an indication that other memory is corrupt \"                                                                   \n",
       " \"Attempted to read or write protected memory  This is often an indication that other memory is corrupt \"                                                                   \n",
       " \"Attempted to read or write protected memory  This is often an indication that other memory is corrupt \"                                                                   \n",
       " \"Attempted to read or write protected memory  This is often an indication that other memory is corrupt \"                                                                   "
      ]
     },
     "execution_count": 14,
     "metadata": {},
     "output_type": "execute_result"
    }
   ],
   "source": [
    "closest_sent(\"memory leak\")"
   ]
  },
  {
   "cell_type": "code",
   "execution_count": null,
   "metadata": {},
   "outputs": [],
   "source": []
  }
 ],
 "metadata": {
  "kernelspec": {
   "display_name": "Julia 1.3.1",
   "language": "julia",
   "name": "julia-1.3"
  },
  "language_info": {
   "file_extension": ".jl",
   "mimetype": "application/julia",
   "name": "julia",
   "version": "1.3.1"
  }
 },
 "nbformat": 4,
 "nbformat_minor": 2
}
